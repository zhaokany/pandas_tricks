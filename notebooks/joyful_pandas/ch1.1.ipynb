{
 "cells": [
  {
   "cell_type": "code",
   "execution_count": 93,
   "id": "fe2eb69e",
   "metadata": {},
   "outputs": [],
   "source": [
    "# examples in chapter 1.1 of the Chinese version of book \"Joyful Pandas\" (pandas数据处理与分析)"
   ]
  },
  {
   "cell_type": "code",
   "execution_count": 17,
   "id": "1cd4eef8",
   "metadata": {},
   "outputs": [],
   "source": [
    "import numpy as np"
   ]
  },
  {
   "cell_type": "code",
   "execution_count": 2,
   "id": "a01ba1a6",
   "metadata": {},
   "outputs": [],
   "source": [
    "# 1.1.1"
   ]
  },
  {
   "cell_type": "code",
   "execution_count": 3,
   "id": "1bc3b209",
   "metadata": {},
   "outputs": [
    {
     "data": {
      "text/plain": [
       "<generator object <genexpr> at 0x7fce69a28580>"
      ]
     },
     "execution_count": 3,
     "metadata": {},
     "output_type": "execute_result"
    }
   ],
   "source": [
    "given_list = [0, 1, 2, 3, 4]\n",
    "\n",
    "def my_func(x):\n",
    "    return x**2\n",
    "\n",
    "generator_expression = (my_func(x) for x in given_list)\n",
    "generator_expression"
   ]
  },
  {
   "cell_type": "code",
   "execution_count": 7,
   "id": "3467dc06",
   "metadata": {},
   "outputs": [
    {
     "data": {
      "text/plain": [
       "[0, 1, 4, 9, 16]"
      ]
     },
     "execution_count": 7,
     "metadata": {},
     "output_type": "execute_result"
    }
   ],
   "source": [
    "ge = (my_func(x) for x in given_list)\n",
    "list(ge)"
   ]
  },
  {
   "cell_type": "code",
   "execution_count": 6,
   "id": "113b4dd0",
   "metadata": {},
   "outputs": [
    {
     "data": {
      "text/plain": [
       "{0, 1, 4, 9, 16}"
      ]
     },
     "execution_count": 6,
     "metadata": {},
     "output_type": "execute_result"
    }
   ],
   "source": [
    "ge = (my_func(x) for x in given_list)\n",
    "set(ge)"
   ]
  },
  {
   "cell_type": "code",
   "execution_count": 10,
   "id": "c1915769",
   "metadata": {},
   "outputs": [
    {
     "data": {
      "text/plain": [
       "{0: 0, 1: 1, 2: 4, 3: 9, 4: 16}"
      ]
     },
     "execution_count": 10,
     "metadata": {},
     "output_type": "execute_result"
    }
   ],
   "source": [
    "{x: my_func(x) for x in given_list}"
   ]
  },
  {
   "cell_type": "code",
   "execution_count": 11,
   "id": "a1f8bc33",
   "metadata": {},
   "outputs": [
    {
     "data": {
      "text/plain": [
       "{0, 1, 2, 3, 4}"
      ]
     },
     "execution_count": 11,
     "metadata": {},
     "output_type": "execute_result"
    }
   ],
   "source": [
    "{x for x in given_list}"
   ]
  },
  {
   "cell_type": "code",
   "execution_count": 12,
   "id": "a509b46b",
   "metadata": {},
   "outputs": [
    {
     "data": {
      "text/plain": [
       "[0, 1, 2, 3, 4]"
      ]
     },
     "execution_count": 12,
     "metadata": {},
     "output_type": "execute_result"
    }
   ],
   "source": [
    "[x for x in given_list]"
   ]
  },
  {
   "cell_type": "code",
   "execution_count": 33,
   "id": "a842e439",
   "metadata": {},
   "outputs": [
    {
     "data": {
      "text/plain": [
       "10000000"
      ]
     },
     "execution_count": 33,
     "metadata": {},
     "output_type": "execute_result"
    }
   ],
   "source": [
    "long_list = range(10000000)\n",
    "len(long_list)"
   ]
  },
  {
   "cell_type": "code",
   "execution_count": 34,
   "id": "8746147e",
   "metadata": {},
   "outputs": [
    {
     "name": "stdout",
     "output_type": "stream",
     "text": [
      "CPU times: user 4 µs, sys: 1e+03 ns, total: 5 µs\n",
      "Wall time: 11.2 µs\n"
     ]
    },
    {
     "data": {
      "text/plain": [
       "333333283333335000000"
      ]
     },
     "execution_count": 34,
     "metadata": {},
     "output_type": "execute_result"
    }
   ],
   "source": [
    "# wrong way for extra space used by the list generation\n",
    "%time\n",
    "sum([my_func(x) for x in long_list])"
   ]
  },
  {
   "cell_type": "code",
   "execution_count": 35,
   "id": "9a103d83",
   "metadata": {},
   "outputs": [
    {
     "name": "stdout",
     "output_type": "stream",
     "text": [
      "CPU times: user 1 µs, sys: 0 ns, total: 1 µs\n",
      "Wall time: 3.1 µs\n"
     ]
    },
    {
     "data": {
      "text/plain": [
       "333333283333335000000"
      ]
     },
     "execution_count": 35,
     "metadata": {},
     "output_type": "execute_result"
    }
   ],
   "source": [
    "%time\n",
    "sum(my_func(x) for x in long_list)"
   ]
  },
  {
   "cell_type": "code",
   "execution_count": 36,
   "id": "8b429745",
   "metadata": {},
   "outputs": [
    {
     "data": {
      "text/plain": [
       "False"
      ]
     },
     "execution_count": 36,
     "metadata": {},
     "output_type": "execute_result"
    }
   ],
   "source": [
    "all(my_func(x) for x in given_list)"
   ]
  },
  {
   "cell_type": "code",
   "execution_count": 37,
   "id": "44508ddb",
   "metadata": {},
   "outputs": [
    {
     "data": {
      "text/plain": [
       "16"
      ]
     },
     "execution_count": 37,
     "metadata": {},
     "output_type": "execute_result"
    }
   ],
   "source": [
    "max(my_func(x) for x in given_list)"
   ]
  },
  {
   "cell_type": "code",
   "execution_count": 38,
   "id": "62333f93",
   "metadata": {},
   "outputs": [
    {
     "data": {
      "text/plain": [
       "[('red', 'pen'), ('red', 'book'), ('blud', 'pen'), ('blud', 'book')]"
      ]
     },
     "execution_count": 38,
     "metadata": {},
     "output_type": "execute_result"
    }
   ],
   "source": [
    "[(color, item) for color in [\"red\", \"blud\"] for item in [\"pen\", \"book\"]]"
   ]
  },
  {
   "cell_type": "code",
   "execution_count": 39,
   "id": "6cbce1af",
   "metadata": {},
   "outputs": [
    {
     "data": {
      "text/plain": [
       "[[('red', 'pen'), ('blud', 'pen')], [('red', 'book'), ('blud', 'book')]]"
      ]
     },
     "execution_count": 39,
     "metadata": {},
     "output_type": "execute_result"
    }
   ],
   "source": [
    "[[(color, item) for color in [\"red\", \"blud\"]] for item in [\"pen\", \"book\"]]"
   ]
  },
  {
   "cell_type": "code",
   "execution_count": 56,
   "id": "bf733334",
   "metadata": {},
   "outputs": [],
   "source": [
    "# Ex1-1"
   ]
  },
  {
   "cell_type": "code",
   "execution_count": 55,
   "id": "22ea9b1c",
   "metadata": {},
   "outputs": [
    {
     "data": {
      "text/plain": [
       "{'my': 2, 'son': 3, \"'s'\": 3, 'name': 4, 'is': 2, 'zichen': 6}"
      ]
     },
     "execution_count": 55,
     "metadata": {},
     "output_type": "execute_result"
    }
   ],
   "source": [
    "word_list = [\"my\", \"son\", \"'s'\", \"name\", \"is\", \"zichen\"]\n",
    "{x: len(x) for x in word_list}"
   ]
  },
  {
   "cell_type": "code",
   "execution_count": 74,
   "id": "7f6d07e0",
   "metadata": {},
   "outputs": [],
   "source": [
    "# Ex1-2"
   ]
  },
  {
   "cell_type": "code",
   "execution_count": 88,
   "id": "7243e3af",
   "metadata": {},
   "outputs": [
    {
     "name": "stdout",
     "output_type": "stream",
     "text": [
      "(30, 20)\n"
     ]
    }
   ],
   "source": [
    "m = 30\n",
    "n = 20\n",
    "\n",
    "l1 = np.random.rand(m, n)\n",
    "l2 = np.random.rand(m, n)\n",
    "l3 = np.random.rand(m, n)\n",
    "\n",
    "l_min = np.array([[min(l1[i, j], l2[i, j], l3[i, j]) for j in range(n)] for i in range(m)])\n",
    "print(l_min.shape)\n",
    "\n",
    "assert np.less_equal(l_min, l1).all()\n",
    "assert np.less_equal(l_min, l2).all()\n",
    "assert np.less_equal(l_min, l3).all()"
   ]
  },
  {
   "cell_type": "code",
   "execution_count": 40,
   "id": "4c4b75c3",
   "metadata": {},
   "outputs": [],
   "source": [
    "# 1.1.2"
   ]
  },
  {
   "cell_type": "code",
   "execution_count": 42,
   "id": "5f041e9e",
   "metadata": {},
   "outputs": [
    {
     "data": {
      "text/plain": [
       "[[1, 2], [3, 4, 5], [7, 8]]"
      ]
     },
     "execution_count": 42,
     "metadata": {},
     "output_type": "execute_result"
    }
   ],
   "source": [
    "my_list = [[1, 2], [3, 4, 5], [6], [7, 8], [9]]\n",
    "list(filter(lambda x: len(x) >=2, my_list))"
   ]
  },
  {
   "cell_type": "code",
   "execution_count": 43,
   "id": "dc6a1025",
   "metadata": {},
   "outputs": [
    {
     "data": {
      "text/plain": [
       "[[3, 4, 5], [7, 8], [9]]"
      ]
     },
     "execution_count": 43,
     "metadata": {},
     "output_type": "execute_result"
    }
   ],
   "source": [
    "list(filter(lambda x: sum(i if i%2 == 1 else 0 for i in x) > 5, my_list))"
   ]
  },
  {
   "cell_type": "code",
   "execution_count": 89,
   "id": "4de0abf3",
   "metadata": {},
   "outputs": [],
   "source": [
    "# Ex1-3"
   ]
  },
  {
   "cell_type": "code",
   "execution_count": 92,
   "id": "dae4c103",
   "metadata": {},
   "outputs": [
    {
     "data": {
      "text/plain": [
       "[[3, 4, 5], [6], [9]]"
      ]
     },
     "execution_count": 92,
     "metadata": {},
     "output_type": "execute_result"
    }
   ],
   "source": [
    "list(filter(lambda x: sum(1 if i%3 == 0 else 0 for i in x) > 0, my_list))"
   ]
  },
  {
   "cell_type": "code",
   "execution_count": 90,
   "id": "30772cd2",
   "metadata": {},
   "outputs": [],
   "source": [
    "# 1.1.3"
   ]
  },
  {
   "cell_type": "code",
   "execution_count": 45,
   "id": "695dad6f",
   "metadata": {},
   "outputs": [],
   "source": [
    "mid = [70, 83, 95, 78, 79]\n",
    "final = [80, 70, 68, 90, 70]"
   ]
  },
  {
   "cell_type": "code",
   "execution_count": 47,
   "id": "4e462dbc",
   "metadata": {},
   "outputs": [
    {
     "data": {
      "text/plain": [
       "[76.0, 75.2, 78.8, 85.2, 73.6]"
      ]
     },
     "execution_count": 47,
     "metadata": {},
     "output_type": "execute_result"
    }
   ],
   "source": [
    "[0.4*x + 0.6*y for x, y in zip(mid, final)]"
   ]
  },
  {
   "cell_type": "code",
   "execution_count": 49,
   "id": "95a1def9",
   "metadata": {},
   "outputs": [
    {
     "data": {
      "text/plain": [
       "{70: 80, 83: 70, 95: 68, 78: 90, 79: 70}"
      ]
     },
     "execution_count": 49,
     "metadata": {},
     "output_type": "execute_result"
    }
   ],
   "source": [
    "dict(zip(mid, final))"
   ]
  },
  {
   "cell_type": "code",
   "execution_count": 51,
   "id": "bc3ef62a",
   "metadata": {},
   "outputs": [
    {
     "data": {
      "text/plain": [
       "[(70, 80), (83, 70), (95, 68), (78, 90), (79, 70)]"
      ]
     },
     "execution_count": 51,
     "metadata": {},
     "output_type": "execute_result"
    }
   ],
   "source": [
    "res = list(zip(mid, final))\n",
    "res"
   ]
  },
  {
   "cell_type": "code",
   "execution_count": 53,
   "id": "3beb7285",
   "metadata": {},
   "outputs": [
    {
     "data": {
      "text/plain": [
       "[(70, 83, 95, 78, 79), (80, 70, 68, 90, 70)]"
      ]
     },
     "execution_count": 53,
     "metadata": {},
     "output_type": "execute_result"
    }
   ],
   "source": [
    "# Useful! Unzip zipped stuff\n",
    "\n",
    "list(zip(*res))"
   ]
  },
  {
   "cell_type": "code",
   "execution_count": 96,
   "id": "7efb5af5",
   "metadata": {},
   "outputs": [
    {
     "name": "stdout",
     "output_type": "stream",
     "text": [
      "0 apple\n",
      "1 ball\n",
      "2 cat\n",
      "3 dog\n",
      "4 eye\n"
     ]
    }
   ],
   "source": [
    "L2 = [\"apple\", \"ball\", \"cat\", \"dog\", \"eye\"]\n",
    "for index, value in enumerate(L2):\n",
    "    print(index, value)"
   ]
  },
  {
   "cell_type": "code",
   "execution_count": 94,
   "id": "8c7c9ade",
   "metadata": {},
   "outputs": [],
   "source": [
    "# Ex1-4"
   ]
  },
  {
   "cell_type": "code",
   "execution_count": 107,
   "id": "114d37d0",
   "metadata": {},
   "outputs": [
    {
     "name": "stdout",
     "output_type": "stream",
     "text": [
      "0 apple\n",
      "1 ball\n",
      "2 cat\n",
      "3 dog\n",
      "4 eye\n"
     ]
    }
   ],
   "source": [
    "for index, value in zip(range(len(L2)), L2):\n",
    "    print(index, value)"
   ]
  },
  {
   "cell_type": "code",
   "execution_count": 108,
   "id": "c5a960bf",
   "metadata": {},
   "outputs": [
    {
     "data": {
      "text/plain": [
       "[(0, 'apple'), (1, 'ball'), (2, 'cat'), (3, 'dog'), (4, 'eye')]"
      ]
     },
     "execution_count": 108,
     "metadata": {},
     "output_type": "execute_result"
    }
   ],
   "source": [
    "list(zip(range(len(L2)), L2))"
   ]
  },
  {
   "cell_type": "code",
   "execution_count": null,
   "id": "b72a4333",
   "metadata": {},
   "outputs": [],
   "source": []
  }
 ],
 "metadata": {
  "kernelspec": {
   "display_name": "py310",
   "language": "python",
   "name": "py310"
  },
  "language_info": {
   "codemirror_mode": {
    "name": "ipython",
    "version": 3
   },
   "file_extension": ".py",
   "mimetype": "text/x-python",
   "name": "python",
   "nbconvert_exporter": "python",
   "pygments_lexer": "ipython3",
   "version": "3.10.13"
  }
 },
 "nbformat": 4,
 "nbformat_minor": 5
}
