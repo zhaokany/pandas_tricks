{
 "cells": [
  {
   "cell_type": "code",
   "execution_count": 1,
   "id": "2f403c45",
   "metadata": {},
   "outputs": [],
   "source": [
    "# exercises in chapter 1.3 of the Chinese version of book \"Joyful Pandas\" (pandas数据处理与分析)"
   ]
  },
  {
   "cell_type": "code",
   "execution_count": 4,
   "id": "c9a0a163",
   "metadata": {},
   "outputs": [],
   "source": [
    "import numpy as np"
   ]
  },
  {
   "cell_type": "code",
   "execution_count": 5,
   "id": "f03220b4",
   "metadata": {},
   "outputs": [],
   "source": [
    "# 1"
   ]
  },
  {
   "cell_type": "code",
   "execution_count": 6,
   "id": "3a4c3aea",
   "metadata": {},
   "outputs": [],
   "source": [
    "A = np.arange(6).reshape(2, -1)\n",
    "B = np.arange(6).reshape(3, -1)"
   ]
  },
  {
   "cell_type": "code",
   "execution_count": 7,
   "id": "25d55f9f",
   "metadata": {},
   "outputs": [
    {
     "data": {
      "text/plain": [
       "array([[10, 13],\n",
       "       [28, 40]])"
      ]
     },
     "execution_count": 7,
     "metadata": {},
     "output_type": "execute_result"
    }
   ],
   "source": [
    "A @ B"
   ]
  },
  {
   "cell_type": "code",
   "execution_count": 27,
   "id": "1e136e50",
   "metadata": {},
   "outputs": [
    {
     "data": {
      "text/plain": [
       "array([[ True,  True],\n",
       "       [ True,  True]])"
      ]
     },
     "execution_count": 27,
     "metadata": {},
     "output_type": "execute_result"
    }
   ],
   "source": [
    "np.array([[(x*y).sum() for y in B.T[:, :]] for x in A[:, :]]) == A @ B"
   ]
  },
  {
   "cell_type": "code",
   "execution_count": 28,
   "id": "7739dbf0",
   "metadata": {},
   "outputs": [],
   "source": [
    "# 2"
   ]
  },
  {
   "cell_type": "code",
   "execution_count": 29,
   "id": "007f1a9a",
   "metadata": {},
   "outputs": [],
   "source": [
    "np.random.seed(0)\n",
    "A = np.random.randint(10, 20, (8, 5))"
   ]
  },
  {
   "cell_type": "code",
   "execution_count": 30,
   "id": "92431931",
   "metadata": {},
   "outputs": [
    {
     "data": {
      "text/plain": [
       "array([[15, 10, 13, 13, 17],\n",
       "       [19, 13, 15, 12, 14],\n",
       "       [17, 16, 18, 18, 11],\n",
       "       [16, 17, 17, 18, 11],\n",
       "       [15, 19, 18, 19, 14],\n",
       "       [13, 10, 13, 15, 10],\n",
       "       [12, 13, 18, 11, 13],\n",
       "       [13, 13, 17, 10, 11]])"
      ]
     },
     "execution_count": 30,
     "metadata": {},
     "output_type": "execute_result"
    }
   ],
   "source": [
    "A"
   ]
  },
  {
   "cell_type": "code",
   "execution_count": 43,
   "id": "55b4efed",
   "metadata": {},
   "outputs": [
    {
     "data": {
      "text/plain": [
       "array([[14.14211438, 13.08145581, 15.20277296, 13.67071057, 11.90294627],\n",
       "       [15.18197574, 14.04332756, 16.32062392, 14.67590988, 12.77816291],\n",
       "       [16.63778163, 15.38994801, 17.88561525, 16.08318891, 14.0034662 ],\n",
       "       [16.42980936, 15.19757366, 17.66204506, 15.88214905, 13.82842288],\n",
       "       [17.67764298, 16.35181976, 19.0034662 , 17.08838821, 14.87868284],\n",
       "       [12.68630849, 11.73483536, 13.63778163, 12.26343154, 10.67764298],\n",
       "       [13.93414211, 12.88908146, 14.97920277, 13.46967071, 11.72790295],\n",
       "       [13.3102253 , 12.31195841, 14.3084922 , 12.86655113, 11.20277296]])"
      ]
     },
     "execution_count": 43,
     "metadata": {},
     "output_type": "execute_result"
    }
   ],
   "source": [
    "B = A.sum(1)[:, np.newaxis] @ (A.sum(0)[np.newaxis, :]) / A.sum()\n",
    "B"
   ]
  },
  {
   "cell_type": "code",
   "execution_count": 45,
   "id": "a9b7537c",
   "metadata": {},
   "outputs": [
    {
     "data": {
      "text/plain": [
       "11.842696601945802"
      ]
     },
     "execution_count": 45,
     "metadata": {},
     "output_type": "execute_result"
    }
   ],
   "source": [
    "C = np.power(A-B, 2) / B\n",
    "C.sum()"
   ]
  },
  {
   "cell_type": "code",
   "execution_count": 49,
   "id": "f76bc625",
   "metadata": {},
   "outputs": [
    {
     "data": {
      "text/plain": [
       "Power_divergenceResult(statistic=11.842696601945802, pvalue=0.9999920078268285)"
      ]
     },
     "execution_count": 49,
     "metadata": {},
     "output_type": "execute_result"
    }
   ],
   "source": [
    "import scipy\n",
    "scipy.stats.chisquare(A.reshape(40), B.reshape(40))"
   ]
  },
  {
   "cell_type": "code",
   "execution_count": null,
   "id": "f5e55743",
   "metadata": {},
   "outputs": [],
   "source": []
  }
 ],
 "metadata": {
  "kernelspec": {
   "display_name": "py310",
   "language": "python",
   "name": "py310"
  },
  "language_info": {
   "codemirror_mode": {
    "name": "ipython",
    "version": 3
   },
   "file_extension": ".py",
   "mimetype": "text/x-python",
   "name": "python",
   "nbconvert_exporter": "python",
   "pygments_lexer": "ipython3",
   "version": "3.10.13"
  }
 },
 "nbformat": 4,
 "nbformat_minor": 5
}
