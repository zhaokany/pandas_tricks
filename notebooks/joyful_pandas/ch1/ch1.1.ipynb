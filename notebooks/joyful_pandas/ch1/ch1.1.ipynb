{
 "cells": [
  {
   "cell_type": "code",
   "execution_count": 93,
   "id": "68e1164e",
   "metadata": {},
   "outputs": [],
   "source": [
    "# examples in chapter 1.1 of the Chinese version of book \"Joyful Pandas\" (pandas数据处理与分析)"
   ]
  },
  {
   "cell_type": "code",
   "execution_count": 17,
   "id": "7c87dc59",
   "metadata": {},
   "outputs": [],
   "source": [
    "import numpy as np"
   ]
  },
  {
   "cell_type": "code",
   "execution_count": 2,
   "id": "07e99950",
   "metadata": {},
   "outputs": [],
   "source": [
    "# 1.1.1"
   ]
  },
  {
   "cell_type": "code",
   "execution_count": 3,
   "id": "7a0e94b8",
   "metadata": {},
   "outputs": [
    {
     "data": {
      "text/plain": [
       "<generator object <genexpr> at 0x7fce69a28580>"
      ]
     },
     "execution_count": 3,
     "metadata": {},
     "output_type": "execute_result"
    }
   ],
   "source": [
    "given_list = [0, 1, 2, 3, 4]\n",
    "\n",
    "def my_func(x):\n",
    "    return x**2\n",
    "\n",
    "generator_expression = (my_func(x) for x in given_list)\n",
    "generator_expression"
   ]
  },
  {
   "cell_type": "code",
   "execution_count": 7,
   "id": "4ac878e3",
   "metadata": {},
   "outputs": [
    {
     "data": {
      "text/plain": [
       "[0, 1, 4, 9, 16]"
      ]
     },
     "execution_count": 7,
     "metadata": {},
     "output_type": "execute_result"
    }
   ],
   "source": [
    "ge = (my_func(x) for x in given_list)\n",
    "list(ge)"
   ]
  },
  {
   "cell_type": "code",
   "execution_count": 6,
   "id": "e3fba0a0",
   "metadata": {},
   "outputs": [
    {
     "data": {
      "text/plain": [
       "{0, 1, 4, 9, 16}"
      ]
     },
     "execution_count": 6,
     "metadata": {},
     "output_type": "execute_result"
    }
   ],
   "source": [
    "ge = (my_func(x) for x in given_list)\n",
    "set(ge)"
   ]
  },
  {
   "cell_type": "code",
   "execution_count": 10,
   "id": "1442283b",
   "metadata": {},
   "outputs": [
    {
     "data": {
      "text/plain": [
       "{0: 0, 1: 1, 2: 4, 3: 9, 4: 16}"
      ]
     },
     "execution_count": 10,
     "metadata": {},
     "output_type": "execute_result"
    }
   ],
   "source": [
    "{x: my_func(x) for x in given_list}"
   ]
  },
  {
   "cell_type": "code",
   "execution_count": 11,
   "id": "36b01779",
   "metadata": {},
   "outputs": [
    {
     "data": {
      "text/plain": [
       "{0, 1, 2, 3, 4}"
      ]
     },
     "execution_count": 11,
     "metadata": {},
     "output_type": "execute_result"
    }
   ],
   "source": [
    "{x for x in given_list}"
   ]
  },
  {
   "cell_type": "code",
   "execution_count": 12,
   "id": "035e98e0",
   "metadata": {},
   "outputs": [
    {
     "data": {
      "text/plain": [
       "[0, 1, 2, 3, 4]"
      ]
     },
     "execution_count": 12,
     "metadata": {},
     "output_type": "execute_result"
    }
   ],
   "source": [
    "[x for x in given_list]"
   ]
  },
  {
   "cell_type": "code",
   "execution_count": 33,
   "id": "c479375b",
   "metadata": {},
   "outputs": [
    {
     "data": {
      "text/plain": [
       "10000000"
      ]
     },
     "execution_count": 33,
     "metadata": {},
     "output_type": "execute_result"
    }
   ],
   "source": [
    "long_list = range(10000000)\n",
    "len(long_list)"
   ]
  },
  {
   "cell_type": "code",
   "execution_count": 34,
   "id": "ee863bfa",
   "metadata": {},
   "outputs": [
    {
     "name": "stdout",
     "output_type": "stream",
     "text": [
      "CPU times: user 4 µs, sys: 1e+03 ns, total: 5 µs\n",
      "Wall time: 11.2 µs\n"
     ]
    },
    {
     "data": {
      "text/plain": [
       "333333283333335000000"
      ]
     },
     "execution_count": 34,
     "metadata": {},
     "output_type": "execute_result"
    }
   ],
   "source": [
    "# wrong way for extra space used by the list generation\n",
    "%time\n",
    "sum([my_func(x) for x in long_list])"
   ]
  },
  {
   "cell_type": "code",
   "execution_count": 35,
   "id": "68a82304",
   "metadata": {},
   "outputs": [
    {
     "name": "stdout",
     "output_type": "stream",
     "text": [
      "CPU times: user 1 µs, sys: 0 ns, total: 1 µs\n",
      "Wall time: 3.1 µs\n"
     ]
    },
    {
     "data": {
      "text/plain": [
       "333333283333335000000"
      ]
     },
     "execution_count": 35,
     "metadata": {},
     "output_type": "execute_result"
    }
   ],
   "source": [
    "%time\n",
    "sum(my_func(x) for x in long_list)"
   ]
  },
  {
   "cell_type": "code",
   "execution_count": 36,
   "id": "29727ce8",
   "metadata": {},
   "outputs": [
    {
     "data": {
      "text/plain": [
       "False"
      ]
     },
     "execution_count": 36,
     "metadata": {},
     "output_type": "execute_result"
    }
   ],
   "source": [
    "all(my_func(x) for x in given_list)"
   ]
  },
  {
   "cell_type": "code",
   "execution_count": 37,
   "id": "e83436eb",
   "metadata": {},
   "outputs": [
    {
     "data": {
      "text/plain": [
       "16"
      ]
     },
     "execution_count": 37,
     "metadata": {},
     "output_type": "execute_result"
    }
   ],
   "source": [
    "max(my_func(x) for x in given_list)"
   ]
  },
  {
   "cell_type": "code",
   "execution_count": 38,
   "id": "6b1ceb6b",
   "metadata": {},
   "outputs": [
    {
     "data": {
      "text/plain": [
       "[('red', 'pen'), ('red', 'book'), ('blud', 'pen'), ('blud', 'book')]"
      ]
     },
     "execution_count": 38,
     "metadata": {},
     "output_type": "execute_result"
    }
   ],
   "source": [
    "[(color, item) for color in [\"red\", \"blud\"] for item in [\"pen\", \"book\"]]"
   ]
  },
  {
   "cell_type": "code",
   "execution_count": 39,
   "id": "3551eca8",
   "metadata": {},
   "outputs": [
    {
     "data": {
      "text/plain": [
       "[[('red', 'pen'), ('blud', 'pen')], [('red', 'book'), ('blud', 'book')]]"
      ]
     },
     "execution_count": 39,
     "metadata": {},
     "output_type": "execute_result"
    }
   ],
   "source": [
    "[[(color, item) for color in [\"red\", \"blud\"]] for item in [\"pen\", \"book\"]]"
   ]
  },
  {
   "cell_type": "code",
   "execution_count": 56,
   "id": "19656422",
   "metadata": {},
   "outputs": [],
   "source": [
    "# Ex1-1"
   ]
  },
  {
   "cell_type": "code",
   "execution_count": 55,
   "id": "f22b9b83",
   "metadata": {},
   "outputs": [
    {
     "data": {
      "text/plain": [
       "{'my': 2, 'son': 3, \"'s'\": 3, 'name': 4, 'is': 2, 'zichen': 6}"
      ]
     },
     "execution_count": 55,
     "metadata": {},
     "output_type": "execute_result"
    }
   ],
   "source": [
    "word_list = [\"my\", \"son\", \"'s'\", \"name\", \"is\", \"zichen\"]\n",
    "{x: len(x) for x in word_list}"
   ]
  },
  {
   "cell_type": "code",
   "execution_count": 74,
   "id": "9d162197",
   "metadata": {},
   "outputs": [],
   "source": [
    "# Ex1-2"
   ]
  },
  {
   "cell_type": "code",
   "execution_count": 88,
   "id": "2e528c9e",
   "metadata": {},
   "outputs": [
    {
     "name": "stdout",
     "output_type": "stream",
     "text": [
      "(30, 20)\n"
     ]
    }
   ],
   "source": [
    "m = 30\n",
    "n = 20\n",
    "\n",
    "l1 = np.random.rand(m, n)\n",
    "l2 = np.random.rand(m, n)\n",
    "l3 = np.random.rand(m, n)\n",
    "\n",
    "l_min = np.array([[min(l1[i, j], l2[i, j], l3[i, j]) for j in range(n)] for i in range(m)])\n",
    "print(l_min.shape)\n",
    "\n",
    "assert np.less_equal(l_min, l1).all()\n",
    "assert np.less_equal(l_min, l2).all()\n",
    "assert np.less_equal(l_min, l3).all()"
   ]
  },
  {
   "cell_type": "code",
   "execution_count": 40,
   "id": "0f4a7d69",
   "metadata": {},
   "outputs": [],
   "source": [
    "# 1.1.2"
   ]
  },
  {
   "cell_type": "code",
   "execution_count": 42,
   "id": "d83a2526",
   "metadata": {},
   "outputs": [
    {
     "data": {
      "text/plain": [
       "[[1, 2], [3, 4, 5], [7, 8]]"
      ]
     },
     "execution_count": 42,
     "metadata": {},
     "output_type": "execute_result"
    }
   ],
   "source": [
    "my_list = [[1, 2], [3, 4, 5], [6], [7, 8], [9]]\n",
    "list(filter(lambda x: len(x) >=2, my_list))"
   ]
  },
  {
   "cell_type": "code",
   "execution_count": 43,
   "id": "029d2269",
   "metadata": {},
   "outputs": [
    {
     "data": {
      "text/plain": [
       "[[3, 4, 5], [7, 8], [9]]"
      ]
     },
     "execution_count": 43,
     "metadata": {},
     "output_type": "execute_result"
    }
   ],
   "source": [
    "list(filter(lambda x: sum(i if i%2 == 1 else 0 for i in x) > 5, my_list))"
   ]
  },
  {
   "cell_type": "code",
   "execution_count": 89,
   "id": "5ad18e5a",
   "metadata": {},
   "outputs": [],
   "source": [
    "# Ex1-3"
   ]
  },
  {
   "cell_type": "code",
   "execution_count": 92,
   "id": "eb5ecae7",
   "metadata": {},
   "outputs": [
    {
     "data": {
      "text/plain": [
       "[[3, 4, 5], [6], [9]]"
      ]
     },
     "execution_count": 92,
     "metadata": {},
     "output_type": "execute_result"
    }
   ],
   "source": [
    "list(filter(lambda x: sum(1 if i%3 == 0 else 0 for i in x) > 0, my_list))"
   ]
  },
  {
   "cell_type": "code",
   "execution_count": 90,
   "id": "151c98f4",
   "metadata": {},
   "outputs": [],
   "source": [
    "# 1.1.3"
   ]
  },
  {
   "cell_type": "code",
   "execution_count": 45,
   "id": "5fac792f",
   "metadata": {},
   "outputs": [],
   "source": [
    "mid = [70, 83, 95, 78, 79]\n",
    "final = [80, 70, 68, 90, 70]"
   ]
  },
  {
   "cell_type": "code",
   "execution_count": 47,
   "id": "f2e60f94",
   "metadata": {},
   "outputs": [
    {
     "data": {
      "text/plain": [
       "[76.0, 75.2, 78.8, 85.2, 73.6]"
      ]
     },
     "execution_count": 47,
     "metadata": {},
     "output_type": "execute_result"
    }
   ],
   "source": [
    "[0.4*x + 0.6*y for x, y in zip(mid, final)]"
   ]
  },
  {
   "cell_type": "code",
   "execution_count": 49,
   "id": "bdefbf0c",
   "metadata": {},
   "outputs": [
    {
     "data": {
      "text/plain": [
       "{70: 80, 83: 70, 95: 68, 78: 90, 79: 70}"
      ]
     },
     "execution_count": 49,
     "metadata": {},
     "output_type": "execute_result"
    }
   ],
   "source": [
    "dict(zip(mid, final))"
   ]
  },
  {
   "cell_type": "code",
   "execution_count": 51,
   "id": "d65c69a6",
   "metadata": {},
   "outputs": [
    {
     "data": {
      "text/plain": [
       "[(70, 80), (83, 70), (95, 68), (78, 90), (79, 70)]"
      ]
     },
     "execution_count": 51,
     "metadata": {},
     "output_type": "execute_result"
    }
   ],
   "source": [
    "res = list(zip(mid, final))\n",
    "res"
   ]
  },
  {
   "cell_type": "code",
   "execution_count": 53,
   "id": "ef30c540",
   "metadata": {},
   "outputs": [
    {
     "data": {
      "text/plain": [
       "[(70, 83, 95, 78, 79), (80, 70, 68, 90, 70)]"
      ]
     },
     "execution_count": 53,
     "metadata": {},
     "output_type": "execute_result"
    }
   ],
   "source": [
    "# Useful! Unzip zipped stuff\n",
    "\n",
    "list(zip(*res))"
   ]
  },
  {
   "cell_type": "code",
   "execution_count": 96,
   "id": "48994fa3",
   "metadata": {},
   "outputs": [
    {
     "name": "stdout",
     "output_type": "stream",
     "text": [
      "0 apple\n",
      "1 ball\n",
      "2 cat\n",
      "3 dog\n",
      "4 eye\n"
     ]
    }
   ],
   "source": [
    "L2 = [\"apple\", \"ball\", \"cat\", \"dog\", \"eye\"]\n",
    "for index, value in enumerate(L2):\n",
    "    print(index, value)"
   ]
  },
  {
   "cell_type": "code",
   "execution_count": 94,
   "id": "1bb3fe77",
   "metadata": {},
   "outputs": [],
   "source": [
    "# Ex1-4"
   ]
  },
  {
   "cell_type": "code",
   "execution_count": 107,
   "id": "2c28440f",
   "metadata": {},
   "outputs": [
    {
     "name": "stdout",
     "output_type": "stream",
     "text": [
      "0 apple\n",
      "1 ball\n",
      "2 cat\n",
      "3 dog\n",
      "4 eye\n"
     ]
    }
   ],
   "source": [
    "for index, value in zip(range(len(L2)), L2):\n",
    "    print(index, value)"
   ]
  },
  {
   "cell_type": "code",
   "execution_count": 108,
   "id": "b62015ef",
   "metadata": {},
   "outputs": [
    {
     "data": {
      "text/plain": [
       "[(0, 'apple'), (1, 'ball'), (2, 'cat'), (3, 'dog'), (4, 'eye')]"
      ]
     },
     "execution_count": 108,
     "metadata": {},
     "output_type": "execute_result"
    }
   ],
   "source": [
    "list(zip(range(len(L2)), L2))"
   ]
  },
  {
   "cell_type": "code",
   "execution_count": null,
   "id": "39e57dd0",
   "metadata": {},
   "outputs": [],
   "source": []
  }
 ],
 "metadata": {
  "kernelspec": {
   "display_name": "py310",
   "language": "python",
   "name": "py310"
  },
  "language_info": {
   "codemirror_mode": {
    "name": "ipython",
    "version": 3
   },
   "file_extension": ".py",
   "mimetype": "text/x-python",
   "name": "python",
   "nbconvert_exporter": "python",
   "pygments_lexer": "ipython3",
   "version": "3.10.13"
  }
 },
 "nbformat": 4,
 "nbformat_minor": 5
}
