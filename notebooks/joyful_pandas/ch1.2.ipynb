{
 "cells": [
  {
   "cell_type": "code",
   "execution_count": null,
   "id": "7edebf99",
   "metadata": {},
   "outputs": [],
   "source": [
    "# examples in chapter 1.2 of the Chinese version of book \"Joyful Pandas\" (pandas数据处理与分析)"
   ]
  },
  {
   "cell_type": "code",
   "execution_count": 1,
   "id": "4e63951e",
   "metadata": {},
   "outputs": [],
   "source": [
    "# 1.2.1"
   ]
  },
  {
   "cell_type": "code",
   "execution_count": 2,
   "id": "a551e30c",
   "metadata": {},
   "outputs": [],
   "source": [
    "import numpy as np"
   ]
  },
  {
   "cell_type": "code",
   "execution_count": 10,
   "id": "3ed78d01",
   "metadata": {},
   "outputs": [
    {
     "data": {
      "text/plain": [
       "(3,)"
      ]
     },
     "execution_count": 10,
     "metadata": {},
     "output_type": "execute_result"
    }
   ],
   "source": [
    "a = np.array([1, 2, 3])\n",
    "a.shape"
   ]
  },
  {
   "cell_type": "code",
   "execution_count": 12,
   "id": "155ab7fc",
   "metadata": {},
   "outputs": [
    {
     "data": {
      "text/plain": [
       "(1, 3)"
      ]
     },
     "execution_count": 12,
     "metadata": {},
     "output_type": "execute_result"
    }
   ],
   "source": [
    "a = np.array([[1, 2, 3]])\n",
    "a.shape"
   ]
  },
  {
   "cell_type": "code",
   "execution_count": 4,
   "id": "8d8a6029",
   "metadata": {},
   "outputs": [
    {
     "data": {
      "text/plain": [
       "(50,)"
      ]
     },
     "execution_count": 4,
     "metadata": {},
     "output_type": "execute_result"
    }
   ],
   "source": [
    "a = np.linspace(1, 100)\n",
    "a.shape"
   ]
  },
  {
   "cell_type": "code",
   "execution_count": 6,
   "id": "a2f5554d",
   "metadata": {},
   "outputs": [
    {
     "data": {
      "text/plain": [
       "array([1, 2, 3, 4])"
      ]
     },
     "execution_count": 6,
     "metadata": {},
     "output_type": "execute_result"
    }
   ],
   "source": [
    "np.arange(1, 5, 1)"
   ]
  },
  {
   "cell_type": "code",
   "execution_count": 7,
   "id": "611b57e8",
   "metadata": {},
   "outputs": [
    {
     "data": {
      "text/plain": [
       "array([[[0., 0., 0., 0.],\n",
       "        [0., 0., 0., 0.],\n",
       "        [0., 0., 0., 0.]],\n",
       "\n",
       "       [[0., 0., 0., 0.],\n",
       "        [0., 0., 0., 0.],\n",
       "        [0., 0., 0., 0.]]])"
      ]
     },
     "execution_count": 7,
     "metadata": {},
     "output_type": "execute_result"
    }
   ],
   "source": [
    "np.zeros((2, 3, 4))"
   ]
  },
  {
   "cell_type": "code",
   "execution_count": 8,
   "id": "17aea09f",
   "metadata": {},
   "outputs": [
    {
     "data": {
      "text/plain": [
       "array([[[1., 1.]],\n",
       "\n",
       "       [[1., 1.]]])"
      ]
     },
     "execution_count": 8,
     "metadata": {},
     "output_type": "execute_result"
    }
   ],
   "source": [
    "np.ones((2, 1, 2))"
   ]
  },
  {
   "cell_type": "code",
   "execution_count": 13,
   "id": "546be2ca",
   "metadata": {},
   "outputs": [
    {
     "data": {
      "text/plain": [
       "array([[9, 9, 9],\n",
       "       [9, 9, 9]])"
      ]
     },
     "execution_count": 13,
     "metadata": {},
     "output_type": "execute_result"
    }
   ],
   "source": [
    "np.full((2, 3), 9)"
   ]
  },
  {
   "cell_type": "code",
   "execution_count": 15,
   "id": "4e2670f4",
   "metadata": {},
   "outputs": [
    {
     "data": {
      "text/plain": [
       "(3, 2)"
      ]
     },
     "execution_count": 15,
     "metadata": {},
     "output_type": "execute_result"
    }
   ],
   "source": [
    "np_input = np.array([[1, 2], [3, 4], [5, 6]])\n",
    "np_input.shape"
   ]
  },
  {
   "cell_type": "code",
   "execution_count": 19,
   "id": "7295352a",
   "metadata": {},
   "outputs": [
    {
     "data": {
      "text/plain": [
       "array([[[[1, 2],\n",
       "         [3, 4],\n",
       "         [5, 6]],\n",
       "\n",
       "        [[1, 2],\n",
       "         [3, 4],\n",
       "         [5, 6]]],\n",
       "\n",
       "\n",
       "       [[[1, 2],\n",
       "         [3, 4],\n",
       "         [5, 6]],\n",
       "\n",
       "        [[1, 2],\n",
       "         [3, 4],\n",
       "         [5, 6]]],\n",
       "\n",
       "\n",
       "       [[[1, 2],\n",
       "         [3, 4],\n",
       "         [5, 6]],\n",
       "\n",
       "        [[1, 2],\n",
       "         [3, 4],\n",
       "         [5, 6]]]])"
      ]
     },
     "execution_count": 19,
     "metadata": {},
     "output_type": "execute_result"
    }
   ],
   "source": [
    "np.full((3, 2, 3, 2), np_input)"
   ]
  },
  {
   "cell_type": "code",
   "execution_count": 24,
   "id": "c592433b",
   "metadata": {},
   "outputs": [
    {
     "data": {
      "text/plain": [
       "array([[200, 100],\n",
       "       [200, 100]])"
      ]
     },
     "execution_count": 24,
     "metadata": {},
     "output_type": "execute_result"
    }
   ],
   "source": [
    "arr = [[1, 2], [3, 4]]\n",
    "np.full_like(arr, [200, 100])"
   ]
  },
  {
   "cell_type": "code",
   "execution_count": 27,
   "id": "77603a7e",
   "metadata": {},
   "outputs": [
    {
     "data": {
      "text/plain": [
       "array([[1., 1., 0.],\n",
       "       [1., 1., 1.],\n",
       "       [0., 1., 1.]])"
      ]
     },
     "execution_count": 27,
     "metadata": {},
     "output_type": "execute_result"
    }
   ],
   "source": [
    "np.eye(3, k=-1) + np.eye(3, k=1) + np.eye(3)"
   ]
  },
  {
   "cell_type": "code",
   "execution_count": 34,
   "id": "3d183f3c",
   "metadata": {},
   "outputs": [
    {
     "data": {
      "text/plain": [
       "array([[0., 0., 0.],\n",
       "       [0., 0., 0.]])"
      ]
     },
     "execution_count": 34,
     "metadata": {},
     "output_type": "execute_result"
    }
   ],
   "source": [
    "np.empty((2, 3), \"float64\")"
   ]
  },
  {
   "cell_type": "code",
   "execution_count": 35,
   "id": "ab6c8cc5",
   "metadata": {},
   "outputs": [
    {
     "data": {
      "text/plain": [
       "array([[ 1.48734681, -0.71289163,  2.87212081],\n",
       "       [ 2.82043069,  1.56830722, -0.28489463],\n",
       "       [-0.15626327,  0.15474501, -0.80958916]])"
      ]
     },
     "execution_count": 35,
     "metadata": {},
     "output_type": "execute_result"
    }
   ],
   "source": [
    "np.random.uniform(-1, 3, (3, 3))"
   ]
  },
  {
   "cell_type": "code",
   "execution_count": 39,
   "id": "0dee60c8",
   "metadata": {},
   "outputs": [
    {
     "data": {
      "text/plain": [
       "array([[0.64177161, 0.31950757, 0.06209023],\n",
       "       [0.26833218, 0.37117044, 0.21285741],\n",
       "       [0.78797975, 0.49147346, 0.94735478]])"
      ]
     },
     "execution_count": 39,
     "metadata": {},
     "output_type": "execute_result"
    }
   ],
   "source": [
    "np.random.rand(3, 3)"
   ]
  },
  {
   "cell_type": "code",
   "execution_count": 40,
   "id": "a305e397",
   "metadata": {},
   "outputs": [
    {
     "data": {
      "text/plain": [
       "array([[ 4.95898468,  5.62480954,  1.1681151 ],\n",
       "       [ 5.74958397,  4.09589212,  9.10004254],\n",
       "       [ 4.65314111,  5.07097356, -1.51218571]])"
      ]
     },
     "execution_count": 40,
     "metadata": {},
     "output_type": "execute_result"
    }
   ],
   "source": [
    "np.random.normal(3, 2.5, (3, 3))"
   ]
  },
  {
   "cell_type": "code",
   "execution_count": 41,
   "id": "e2b79435",
   "metadata": {},
   "outputs": [
    {
     "data": {
      "text/plain": [
       "array([[-1.70666076, -1.79264232,  0.83077232],\n",
       "       [-0.13998896,  0.14521748,  0.99999846],\n",
       "       [ 2.48849604,  0.93708101, -1.27135352]])"
      ]
     },
     "execution_count": 41,
     "metadata": {},
     "output_type": "execute_result"
    }
   ],
   "source": [
    "np.random.randn(3, 3)"
   ]
  },
  {
   "cell_type": "code",
   "execution_count": 42,
   "id": "e2040797",
   "metadata": {},
   "outputs": [
    {
     "data": {
      "text/plain": [
       "array([[ 8,  7, 12],\n",
       "       [12,  6,  8],\n",
       "       [ 7,  8, 10]])"
      ]
     },
     "execution_count": 42,
     "metadata": {},
     "output_type": "execute_result"
    }
   ],
   "source": [
    "np.random.randint(5, 15, (3, 3))"
   ]
  },
  {
   "cell_type": "code",
   "execution_count": 44,
   "id": "7fef06c8",
   "metadata": {},
   "outputs": [
    {
     "data": {
      "text/plain": [
       "array(['b', 'a', 'd'], dtype='<U1')"
      ]
     },
     "execution_count": 44,
     "metadata": {},
     "output_type": "execute_result"
    }
   ],
   "source": [
    "my_list = list(\"abcd\")\n",
    "np.random.choice(my_list, 3, replace=False, p=[0.1, 0.7, 0.1, 0.1])"
   ]
  },
  {
   "cell_type": "code",
   "execution_count": 48,
   "id": "c5e6039c",
   "metadata": {},
   "outputs": [
    {
     "data": {
      "text/plain": [
       "array([['b', 'd', 'b'],\n",
       "       ['c', 'a', 'a'],\n",
       "       ['c', 'b', 'd']], dtype='<U1')"
      ]
     },
     "execution_count": 48,
     "metadata": {},
     "output_type": "execute_result"
    }
   ],
   "source": [
    "np.random.choice(my_list, (3, 3), replace=True)"
   ]
  },
  {
   "cell_type": "code",
   "execution_count": 51,
   "id": "58a1e179",
   "metadata": {},
   "outputs": [
    {
     "data": {
      "text/plain": [
       "array(['c', 'd', 'b', 'a'], dtype='<U1')"
      ]
     },
     "execution_count": 51,
     "metadata": {},
     "output_type": "execute_result"
    }
   ],
   "source": [
    "np.random.seed(0)\n",
    "np.random.permutation(my_list)"
   ]
  },
  {
   "cell_type": "code",
   "execution_count": 53,
   "id": "d140dba0",
   "metadata": {},
   "outputs": [
    {
     "data": {
      "text/plain": [
       "array(['c', 'd', 'b', 'a'], dtype='<U1')"
      ]
     },
     "execution_count": 53,
     "metadata": {},
     "output_type": "execute_result"
    }
   ],
   "source": [
    "np.random.seed(0)\n",
    "np.random.choice(my_list, 4, replace=False)"
   ]
  },
  {
   "cell_type": "code",
   "execution_count": 54,
   "id": "71cbe83c",
   "metadata": {},
   "outputs": [],
   "source": [
    "# 1.2.2"
   ]
  },
  {
   "cell_type": "code",
   "execution_count": 55,
   "id": "e3f1fce8",
   "metadata": {},
   "outputs": [
    {
     "data": {
      "text/plain": [
       "(3, 360, 180)"
      ]
     },
     "execution_count": 55,
     "metadata": {},
     "output_type": "execute_result"
    }
   ],
   "source": [
    "carbon = np.random.rand(360, 180, 3)\n",
    "res = carbon.transpose(2, 0, 1)\n",
    "res.shape"
   ]
  },
  {
   "cell_type": "code",
   "execution_count": 56,
   "id": "d93d56ea",
   "metadata": {},
   "outputs": [
    {
     "data": {
      "text/plain": [
       "(3, 180, 360)"
      ]
     },
     "execution_count": 56,
     "metadata": {},
     "output_type": "execute_result"
    }
   ],
   "source": [
    "res = carbon.T\n",
    "res.shape"
   ]
  },
  {
   "cell_type": "code",
   "execution_count": 59,
   "id": "e3e1e2f4",
   "metadata": {},
   "outputs": [
    {
     "data": {
      "text/plain": [
       "array([[0, 1, 2, 3],\n",
       "       [4, 5, 6, 7]])"
      ]
     },
     "execution_count": 59,
     "metadata": {},
     "output_type": "execute_result"
    }
   ],
   "source": [
    "my_matrix = np.arange(8)\n",
    "my_matrix.reshape(2, 4)"
   ]
  },
  {
   "cell_type": "code",
   "execution_count": 61,
   "id": "ec65ef53",
   "metadata": {},
   "outputs": [
    {
     "data": {
      "text/plain": [
       "array([[0, 1, 2, 3],\n",
       "       [4, 5, 6, 7]])"
      ]
     },
     "execution_count": 61,
     "metadata": {},
     "output_type": "execute_result"
    }
   ],
   "source": [
    "my_matrix.reshape((2, 4), order=\"C\")"
   ]
  },
  {
   "cell_type": "code",
   "execution_count": 62,
   "id": "923aa8b6",
   "metadata": {},
   "outputs": [
    {
     "data": {
      "text/plain": [
       "array([[0, 2, 4, 6],\n",
       "       [1, 3, 5, 7]])"
      ]
     },
     "execution_count": 62,
     "metadata": {},
     "output_type": "execute_result"
    }
   ],
   "source": [
    "my_matrix.reshape((2, 4), order=\"F\")"
   ]
  },
  {
   "cell_type": "code",
   "execution_count": 67,
   "id": "b617f462",
   "metadata": {},
   "outputs": [
    {
     "data": {
      "text/plain": [
       "array([0, 4, 1, 5, 2, 6, 3, 7])"
      ]
     },
     "execution_count": 67,
     "metadata": {},
     "output_type": "execute_result"
    }
   ],
   "source": [
    "my_matrix.reshape((2, 4), order=\"C\").reshape(8, order=\"F\")"
   ]
  },
  {
   "cell_type": "code",
   "execution_count": 68,
   "id": "872e2087",
   "metadata": {},
   "outputs": [
    {
     "data": {
      "text/plain": [
       "array([[[0, 1],\n",
       "        [2, 3]],\n",
       "\n",
       "       [[4, 5],\n",
       "        [6, 7]]])"
      ]
     },
     "execution_count": 68,
     "metadata": {},
     "output_type": "execute_result"
    }
   ],
   "source": [
    "my_matrix.reshape(2, 2, -1)"
   ]
  },
  {
   "cell_type": "code",
   "execution_count": 69,
   "id": "8076ff31",
   "metadata": {},
   "outputs": [
    {
     "data": {
      "text/plain": [
       "array([[[0, 1],\n",
       "        [2, 3]],\n",
       "\n",
       "       [[4, 5],\n",
       "        [6, 7]]])"
      ]
     },
     "execution_count": 69,
     "metadata": {},
     "output_type": "execute_result"
    }
   ],
   "source": [
    "my_matrix.reshape(2, -1, 2)"
   ]
  },
  {
   "cell_type": "code",
   "execution_count": 70,
   "id": "5e7b6dfa",
   "metadata": {},
   "outputs": [
    {
     "data": {
      "text/plain": [
       "array([[[0, 1],\n",
       "        [2, 3]],\n",
       "\n",
       "       [[4, 5],\n",
       "        [6, 7]]])"
      ]
     },
     "execution_count": 70,
     "metadata": {},
     "output_type": "execute_result"
    }
   ],
   "source": [
    "my_matrix.reshape(-1, 2, 2)"
   ]
  },
  {
   "cell_type": "code",
   "execution_count": 73,
   "id": "67ccf15d",
   "metadata": {},
   "outputs": [
    {
     "data": {
      "text/plain": [
       "(1, 2, 1, 2)"
      ]
     },
     "execution_count": 73,
     "metadata": {},
     "output_type": "execute_result"
    }
   ],
   "source": [
    "target = np.ones((2, 2))\n",
    "expanded_target = np.expand_dims(target, (0, 2))\n",
    "expanded_target.shape"
   ]
  },
  {
   "cell_type": "code",
   "execution_count": 74,
   "id": "40f44af0",
   "metadata": {},
   "outputs": [
    {
     "data": {
      "text/plain": [
       "array([[1., 1.],\n",
       "       [1., 1.]])"
      ]
     },
     "execution_count": 74,
     "metadata": {},
     "output_type": "execute_result"
    }
   ],
   "source": [
    "np.squeeze(expanded_target, (0, 2))"
   ]
  },
  {
   "cell_type": "code",
   "execution_count": 76,
   "id": "11cd7e22",
   "metadata": {},
   "outputs": [
    {
     "data": {
      "text/plain": [
       "(20, 6, 2, 3)"
      ]
     },
     "execution_count": 76,
     "metadata": {},
     "output_type": "execute_result"
    }
   ],
   "source": [
    "pop_man = np.random.rand(20, 6, 3)\n",
    "pop_women = np.random.rand(20, 6, 3)\n",
    "res = np.stack([pop_man, pop_women], axis=2)\n",
    "res.shape"
   ]
  },
  {
   "cell_type": "code",
   "execution_count": 77,
   "id": "3aeba03b",
   "metadata": {},
   "outputs": [
    {
     "data": {
      "text/plain": [
       "(20, 12, 3)"
      ]
     },
     "execution_count": 77,
     "metadata": {},
     "output_type": "execute_result"
    }
   ],
   "source": [
    "pop_1_6 = np.random.rand(20, 6, 3)\n",
    "pop_7_12 = np.random.rand(20, 6, 3)\n",
    "res = np.concatenate([pop_1_6, pop_7_12], axis=1)\n",
    "res.shape"
   ]
  },
  {
   "cell_type": "code",
   "execution_count": 79,
   "id": "d3d79055",
   "metadata": {},
   "outputs": [
    {
     "name": "stdout",
     "output_type": "stream",
     "text": [
      "(20, 2, 3)\n",
      "(20, 2, 3)\n",
      "(20, 2, 3)\n"
     ]
    }
   ],
   "source": [
    "res = np.split(pop_1_6, indices_or_sections=3, axis=1)\n",
    "for i in res:\n",
    "    print(i.shape)"
   ]
  },
  {
   "cell_type": "code",
   "execution_count": 80,
   "id": "d9b0c15a",
   "metadata": {},
   "outputs": [
    {
     "name": "stdout",
     "output_type": "stream",
     "text": [
      "(20, 1, 3)\n",
      "(20, 3, 3)\n",
      "(20, 2, 3)\n"
     ]
    }
   ],
   "source": [
    "res = np.split(pop_1_6, indices_or_sections=[1, 4], axis=1)\n",
    "for i in res:\n",
    "    print(i.shape)"
   ]
  },
  {
   "cell_type": "code",
   "execution_count": 82,
   "id": "a94f433e",
   "metadata": {},
   "outputs": [],
   "source": [
    "# Ex1-5\n",
    "# split() is more like the inverse of concatenate() because it doesn't introduce a new dimension"
   ]
  },
  {
   "cell_type": "code",
   "execution_count": 88,
   "id": "e9fa7fe9",
   "metadata": {},
   "outputs": [
    {
     "data": {
      "text/plain": [
       "array([0, 0, 1, 1, 2, 2])"
      ]
     },
     "execution_count": 88,
     "metadata": {},
     "output_type": "execute_result"
    }
   ],
   "source": [
    "a = np.arange(3)\n",
    "np.repeat(a, repeats=2)"
   ]
  },
  {
   "cell_type": "code",
   "execution_count": 85,
   "id": "923d89b8",
   "metadata": {},
   "outputs": [
    {
     "data": {
      "text/plain": [
       "array([0, 1, 1, 2, 2, 2])"
      ]
     },
     "execution_count": 85,
     "metadata": {},
     "output_type": "execute_result"
    }
   ],
   "source": [
    "np.repeat(a, repeats=a+1)"
   ]
  },
  {
   "cell_type": "code",
   "execution_count": 93,
   "id": "cdb7beb6",
   "metadata": {},
   "outputs": [],
   "source": [
    "a = np.array([[1, 2], [3, 4]])\n",
    "print(a.shape)"
   ]
  },
  {
   "cell_type": "code",
   "execution_count": 93,
   "id": "e9cd8338",
   "metadata": {},
   "outputs": [
    {
     "name": "stdout",
     "output_type": "stream",
     "text": [
      "(2, 2)\n"
     ]
    },
    {
     "data": {
      "text/plain": [
       "array([[1, 2, 2],\n",
       "       [3, 4, 4]])"
      ]
     },
     "execution_count": 93,
     "metadata": {},
     "output_type": "execute_result"
    }
   ],
   "source": [
    "np.repeat(a, repeats=[1, 2], axis=1)"
   ]
  },
  {
   "cell_type": "code",
   "execution_count": 94,
   "id": "39ecab43",
   "metadata": {},
   "outputs": [
    {
     "data": {
      "text/plain": [
       "array([[1, 2],\n",
       "       [3, 4],\n",
       "       [3, 4]])"
      ]
     },
     "execution_count": 94,
     "metadata": {},
     "output_type": "execute_result"
    }
   ],
   "source": [
    "np.repeat(a, repeats=[1, 2], axis=0)"
   ]
  },
  {
   "cell_type": "code",
   "execution_count": 95,
   "id": "4fa1468d",
   "metadata": {},
   "outputs": [],
   "source": [
    "# Ex1-6"
   ]
  },
  {
   "cell_type": "code",
   "execution_count": 100,
   "id": "c31c6dd4",
   "metadata": {},
   "outputs": [
    {
     "data": {
      "text/plain": [
       "array([[ 1,  2,  3,  4,  5,  6,  7,  8,  9, 10],\n",
       "       [ 1,  2,  3,  4,  5,  6,  7,  8,  9, 10],\n",
       "       [ 1,  2,  3,  4,  5,  6,  7,  8,  9, 10],\n",
       "       [ 1,  2,  3,  4,  5,  6,  7,  8,  9, 10],\n",
       "       [ 1,  2,  3,  4,  5,  6,  7,  8,  9, 10],\n",
       "       [ 1,  2,  3,  4,  5,  6,  7,  8,  9, 10],\n",
       "       [ 1,  2,  3,  4,  5,  6,  7,  8,  9, 10],\n",
       "       [ 1,  2,  3,  4,  5,  6,  7,  8,  9, 10],\n",
       "       [ 1,  2,  3,  4,  5,  6,  7,  8,  9, 10],\n",
       "       [ 1,  2,  3,  4,  5,  6,  7,  8,  9, 10]])"
      ]
     },
     "execution_count": 100,
     "metadata": {},
     "output_type": "execute_result"
    }
   ],
   "source": [
    "a = np.arange(1, 11, 1).reshape((1, 10))\n",
    "np.repeat(a, repeats=10, axis=0)"
   ]
  },
  {
   "cell_type": "code",
   "execution_count": 103,
   "id": "22ee3d55",
   "metadata": {},
   "outputs": [
    {
     "data": {
      "text/plain": [
       "array([[ 1,  1,  1,  1,  1,  1,  1,  1,  1,  1],\n",
       "       [ 2,  2,  2,  2,  2,  2,  2,  2,  2,  2],\n",
       "       [ 3,  3,  3,  3,  3,  3,  3,  3,  3,  3],\n",
       "       [ 4,  4,  4,  4,  4,  4,  4,  4,  4,  4],\n",
       "       [ 5,  5,  5,  5,  5,  5,  5,  5,  5,  5],\n",
       "       [ 6,  6,  6,  6,  6,  6,  6,  6,  6,  6],\n",
       "       [ 7,  7,  7,  7,  7,  7,  7,  7,  7,  7],\n",
       "       [ 8,  8,  8,  8,  8,  8,  8,  8,  8,  8],\n",
       "       [ 9,  9,  9,  9,  9,  9,  9,  9,  9,  9],\n",
       "       [10, 10, 10, 10, 10, 10, 10, 10, 10, 10]])"
      ]
     },
     "execution_count": 103,
     "metadata": {},
     "output_type": "execute_result"
    }
   ],
   "source": [
    "a = np.arange(1, 11, 1).reshape((10, 1))\n",
    "np.repeat(a, repeats=10, axis=1)"
   ]
  },
  {
   "cell_type": "code",
   "execution_count": 104,
   "id": "e9fd83fb",
   "metadata": {},
   "outputs": [],
   "source": [
    "# 1.2.3"
   ]
  },
  {
   "cell_type": "code",
   "execution_count": 105,
   "id": "0c40bad2",
   "metadata": {},
   "outputs": [
    {
     "data": {
      "text/plain": [
       "array([[[ 0,  1,  2],\n",
       "        [ 3,  4,  5]],\n",
       "\n",
       "       [[ 6,  7,  8],\n",
       "        [ 9, 10, 11]],\n",
       "\n",
       "       [[12, 13, 14],\n",
       "        [15, 16, 17]],\n",
       "\n",
       "       [[18, 19, 20],\n",
       "        [21, 22, 23]]])"
      ]
     },
     "execution_count": 105,
     "metadata": {},
     "output_type": "execute_result"
    }
   ],
   "source": [
    "target = np.arange(24).reshape(4, 2, 3)\n",
    "target"
   ]
  },
  {
   "cell_type": "code",
   "execution_count": 106,
   "id": "ac130909",
   "metadata": {},
   "outputs": [
    {
     "data": {
      "text/plain": [
       "array([[[ 1,  2],\n",
       "        [ 4,  5]],\n",
       "\n",
       "       [[ 7,  8],\n",
       "        [10, 11]],\n",
       "\n",
       "       [[13, 14],\n",
       "        [16, 17]]])"
      ]
     },
     "execution_count": 106,
     "metadata": {},
     "output_type": "execute_result"
    }
   ],
   "source": [
    "target[0:3, :, 1:3]"
   ]
  },
  {
   "cell_type": "code",
   "execution_count": 108,
   "id": "44e0b7ef",
   "metadata": {},
   "outputs": [
    {
     "data": {
      "text/plain": [
       "array([ 0, 10])"
      ]
     },
     "execution_count": 108,
     "metadata": {},
     "output_type": "execute_result"
    }
   ],
   "source": [
    "target[[0, 1], [0, 1], [0, 1]]"
   ]
  },
  {
   "cell_type": "code",
   "execution_count": 109,
   "id": "6857ad20",
   "metadata": {},
   "outputs": [
    {
     "data": {
      "text/plain": [
       "array([[[ 0,  1],\n",
       "        [ 3,  4]],\n",
       "\n",
       "       [[ 6,  7],\n",
       "        [ 9, 10]]])"
      ]
     },
     "execution_count": 109,
     "metadata": {},
     "output_type": "execute_result"
    }
   ],
   "source": [
    "target[0:2, 0:2, 0:2]"
   ]
  },
  {
   "cell_type": "code",
   "execution_count": 111,
   "id": "7ee2a2eb",
   "metadata": {},
   "outputs": [
    {
     "data": {
      "text/plain": [
       "array([[[ 0,  1,  2],\n",
       "        [ 3,  4,  5]],\n",
       "\n",
       "       [[12, 13, 14],\n",
       "        [15, 16, 17]]])"
      ]
     },
     "execution_count": 111,
     "metadata": {},
     "output_type": "execute_result"
    }
   ],
   "source": [
    "target[[True, False, True, False]]"
   ]
  },
  {
   "cell_type": "code",
   "execution_count": 112,
   "id": "6e5aabea",
   "metadata": {},
   "outputs": [
    {
     "data": {
      "text/plain": [
       "True"
      ]
     },
     "execution_count": 112,
     "metadata": {},
     "output_type": "execute_result"
    }
   ],
   "source": [
    "target[:, :, 0::2].shape == target[..., 0::2].shape"
   ]
  },
  {
   "cell_type": "code",
   "execution_count": 113,
   "id": "2d7435c4",
   "metadata": {},
   "outputs": [
    {
     "data": {
      "text/plain": [
       "array([[[ 0,  2],\n",
       "        [ 3,  5]],\n",
       "\n",
       "       [[ 6,  8],\n",
       "        [ 9, 11]],\n",
       "\n",
       "       [[12, 14],\n",
       "        [15, 17]],\n",
       "\n",
       "       [[18, 20],\n",
       "        [21, 23]]])"
      ]
     },
     "execution_count": 113,
     "metadata": {},
     "output_type": "execute_result"
    }
   ],
   "source": [
    "target[:, :, 0::2]"
   ]
  },
  {
   "cell_type": "code",
   "execution_count": 114,
   "id": "f0a96ed2",
   "metadata": {},
   "outputs": [],
   "source": [
    "# Ex1-7"
   ]
  },
  {
   "cell_type": "code",
   "execution_count": 117,
   "id": "07569e29",
   "metadata": {},
   "outputs": [
    {
     "data": {
      "text/plain": [
       "array([8, 5, 2])"
      ]
     },
     "execution_count": 117,
     "metadata": {},
     "output_type": "execute_result"
    }
   ],
   "source": [
    "arr = np.arange(10)\n",
    "arr[-2:-10:-3]"
   ]
  },
  {
   "cell_type": "code",
   "execution_count": 128,
   "id": "d5cae5e8",
   "metadata": {},
   "outputs": [
    {
     "data": {
      "text/plain": [
       "(4, 1, 1, 2, 3)"
      ]
     },
     "execution_count": 128,
     "metadata": {},
     "output_type": "execute_result"
    }
   ],
   "source": [
    "target[:, np.newaxis, np.newaxis].shape"
   ]
  },
  {
   "cell_type": "code",
   "execution_count": 121,
   "id": "a9fbc6b7",
   "metadata": {},
   "outputs": [
    {
     "data": {
      "text/plain": [
       "(4, 1, 2, 1, 3)"
      ]
     },
     "execution_count": 121,
     "metadata": {},
     "output_type": "execute_result"
    }
   ],
   "source": [
    "target[:, np.newaxis, :, np.newaxis].shape"
   ]
  },
  {
   "cell_type": "code",
   "execution_count": 127,
   "id": "a13b2a9d",
   "metadata": {},
   "outputs": [
    {
     "data": {
      "text/plain": [
       "(4, 2, 1, 3, 1)"
      ]
     },
     "execution_count": 127,
     "metadata": {},
     "output_type": "execute_result"
    }
   ],
   "source": [
    "target[..., np.newaxis, :, np.newaxis].shape"
   ]
  },
  {
   "cell_type": "code",
   "execution_count": 129,
   "id": "d2489c99",
   "metadata": {},
   "outputs": [],
   "source": [
    "# 1.2.4"
   ]
  },
  {
   "cell_type": "code",
   "execution_count": 4,
   "id": "ff305a49",
   "metadata": {},
   "outputs": [],
   "source": [
    "piece = np.random.randint(0, 5, (5, 3))\n",
    "price = np.random.uniform(10, 100, 3)"
   ]
  },
  {
   "cell_type": "code",
   "execution_count": 5,
   "id": "c4d455d1",
   "metadata": {},
   "outputs": [
    {
     "data": {
      "text/plain": [
       "array([[ 78.83555315, 192.95332555,  56.15264479],\n",
       "       [315.34221261, 192.95332555, 112.30528958],\n",
       "       [  0.        , 257.27110074, 224.61057916],\n",
       "       [ 78.83555315, 128.63555037,   0.        ],\n",
       "       [236.50665946, 257.27110074, 168.45793437]])"
      ]
     },
     "execution_count": 5,
     "metadata": {},
     "output_type": "execute_result"
    }
   ],
   "source": [
    "piece * price"
   ]
  },
  {
   "cell_type": "code",
   "execution_count": 6,
   "id": "68c7afe5",
   "metadata": {},
   "outputs": [],
   "source": [
    "# Ex1-8"
   ]
  },
  {
   "cell_type": "code",
   "execution_count": 11,
   "id": "901efd88",
   "metadata": {},
   "outputs": [
    {
     "data": {
      "text/plain": [
       "(1, 3, 5)"
      ]
     },
     "execution_count": 11,
     "metadata": {},
     "output_type": "execute_result"
    }
   ],
   "source": [
    "a = np.random.rand(1, 3, 5)\n",
    "b = np.random.rand(3, 1)\n",
    "(a*b).shape"
   ]
  },
  {
   "cell_type": "code",
   "execution_count": 12,
   "id": "2fe59eab",
   "metadata": {},
   "outputs": [
    {
     "data": {
      "text/plain": [
       "(3, 5, 3, 4)"
      ]
     },
     "execution_count": 12,
     "metadata": {},
     "output_type": "execute_result"
    }
   ],
   "source": [
    "a = np.random.rand(3, 5, 3, 4)\n",
    "b = np.random.rand(1, 3, 1)\n",
    "(a*b).shape"
   ]
  },
  {
   "cell_type": "code",
   "execution_count": 13,
   "id": "91e4ccf1",
   "metadata": {},
   "outputs": [
    {
     "data": {
      "text/plain": [
       "(3, 2, 2, 5)"
      ]
     },
     "execution_count": 13,
     "metadata": {},
     "output_type": "execute_result"
    }
   ],
   "source": [
    "a = np.random.rand(3, 2, 1, 5)\n",
    "b = np.random.rand(2, 5)\n",
    "(a*b).shape"
   ]
  },
  {
   "cell_type": "code",
   "execution_count": 17,
   "id": "f2751c4e",
   "metadata": {},
   "outputs": [
    {
     "data": {
      "text/plain": [
       "array([[ 78.83555315, 315.34221261,   0.        ,  78.83555315,\n",
       "        236.50665946],\n",
       "       [192.95332555, 192.95332555, 257.27110074, 128.63555037,\n",
       "        257.27110074],\n",
       "       [ 56.15264479, 112.30528958, 224.61057916,   0.        ,\n",
       "        168.45793437]])"
      ]
     },
     "execution_count": 17,
     "metadata": {},
     "output_type": "execute_result"
    }
   ],
   "source": [
    "piece.T * price.reshape(3, 1)"
   ]
  },
  {
   "cell_type": "code",
   "execution_count": 18,
   "id": "708a3965",
   "metadata": {},
   "outputs": [
    {
     "data": {
      "text/plain": [
       "array([[ 78.83555315, 315.34221261,   0.        ,  78.83555315,\n",
       "        236.50665946],\n",
       "       [192.95332555, 192.95332555, 257.27110074, 128.63555037,\n",
       "        257.27110074],\n",
       "       [ 56.15264479, 112.30528958, 224.61057916,   0.        ,\n",
       "        168.45793437]])"
      ]
     },
     "execution_count": 18,
     "metadata": {},
     "output_type": "execute_result"
    }
   ],
   "source": [
    "piece.T * price[:, np.newaxis]"
   ]
  },
  {
   "cell_type": "code",
   "execution_count": 19,
   "id": "c0c437e2",
   "metadata": {},
   "outputs": [],
   "source": [
    "# Ex1-9"
   ]
  },
  {
   "cell_type": "code",
   "execution_count": 20,
   "id": "5cc86a05",
   "metadata": {},
   "outputs": [
    {
     "data": {
      "text/plain": [
       "array([[ 78.83555315, 315.34221261,   0.        ,  78.83555315,\n",
       "        236.50665946],\n",
       "       [192.95332555, 192.95332555, 257.27110074, 128.63555037,\n",
       "        257.27110074],\n",
       "       [ 56.15264479, 112.30528958, 224.61057916,   0.        ,\n",
       "        168.45793437]])"
      ]
     },
     "execution_count": 20,
     "metadata": {},
     "output_type": "execute_result"
    }
   ],
   "source": [
    "piece.T * np.expand_dims(price, 1)"
   ]
  },
  {
   "cell_type": "code",
   "execution_count": 21,
   "id": "2902d3ad",
   "metadata": {},
   "outputs": [],
   "source": [
    "# 1.2.5"
   ]
  },
  {
   "cell_type": "code",
   "execution_count": 22,
   "id": "c35216ec",
   "metadata": {},
   "outputs": [],
   "source": [
    "my_matrix = np.random.randint(20, 40, 24).reshape(2, 3, 4)"
   ]
  },
  {
   "cell_type": "code",
   "execution_count": 23,
   "id": "a37af253",
   "metadata": {},
   "outputs": [
    {
     "data": {
      "text/plain": [
       "686"
      ]
     },
     "execution_count": 23,
     "metadata": {},
     "output_type": "execute_result"
    }
   ],
   "source": [
    "my_matrix.sum()"
   ]
  },
  {
   "cell_type": "code",
   "execution_count": 24,
   "id": "ece2bb60",
   "metadata": {},
   "outputs": [
    {
     "data": {
      "text/plain": [
       "array([388, 298])"
      ]
     },
     "execution_count": 24,
     "metadata": {},
     "output_type": "execute_result"
    }
   ],
   "source": [
    "my_matrix.sum(axis=(1, 2))"
   ]
  },
  {
   "cell_type": "code",
   "execution_count": 25,
   "id": "abd559ec",
   "metadata": {},
   "outputs": [
    {
     "data": {
      "text/plain": [
       "array([[60, 60, 47, 55],\n",
       "       [55, 59, 59, 45],\n",
       "       [65, 69, 56, 56]])"
      ]
     },
     "execution_count": 25,
     "metadata": {},
     "output_type": "execute_result"
    }
   ],
   "source": [
    "my_matrix.sum(axis=0)"
   ]
  },
  {
   "cell_type": "code",
   "execution_count": 26,
   "id": "70e826e7",
   "metadata": {},
   "outputs": [],
   "source": [
    "# Ex1-10"
   ]
  },
  {
   "cell_type": "code",
   "execution_count": 27,
   "id": "62fe74f5",
   "metadata": {},
   "outputs": [
    {
     "data": {
      "text/plain": [
       "array([222, 218, 246])"
      ]
     },
     "execution_count": 27,
     "metadata": {},
     "output_type": "execute_result"
    }
   ],
   "source": [
    "my_matrix.sum(axis=(0, 2))"
   ]
  },
  {
   "cell_type": "code",
   "execution_count": 28,
   "id": "8ee6094a",
   "metadata": {},
   "outputs": [
    {
     "data": {
      "text/plain": [
       "array([39, 36])"
      ]
     },
     "execution_count": 28,
     "metadata": {},
     "output_type": "execute_result"
    }
   ],
   "source": [
    "my_matrix.max(axis=(1, 2))"
   ]
  },
  {
   "cell_type": "code",
   "execution_count": 29,
   "id": "4a4768ef",
   "metadata": {},
   "outputs": [
    {
     "data": {
      "text/plain": [
       "array([[31. , 33.5, 35. ],\n",
       "       [20.5, 21. , 30. ]])"
      ]
     },
     "execution_count": 29,
     "metadata": {},
     "output_type": "execute_result"
    }
   ],
   "source": [
    "np.quantile(my_matrix, axis=-1, q=0.5)"
   ]
  },
  {
   "cell_type": "code",
   "execution_count": 30,
   "id": "8f4b8f28",
   "metadata": {},
   "outputs": [
    {
     "data": {
      "text/plain": [
       "array([[31. , 33.5, 35. ],\n",
       "       [20.5, 21. , 30. ]])"
      ]
     },
     "execution_count": 30,
     "metadata": {},
     "output_type": "execute_result"
    }
   ],
   "source": [
    "np.median(my_matrix, axis=-1)"
   ]
  },
  {
   "cell_type": "code",
   "execution_count": 32,
   "id": "80805e6a",
   "metadata": {},
   "outputs": [
    {
     "data": {
      "text/plain": [
       "array([nan, 36.])"
      ]
     },
     "execution_count": 32,
     "metadata": {},
     "output_type": "execute_result"
    }
   ],
   "source": [
    "my_matrix = my_matrix.astype(\"float\")\n",
    "my_matrix[0, 0, 0] = np.nan\n",
    "my_matrix.max(axis=(1, 2))"
   ]
  },
  {
   "cell_type": "code",
   "execution_count": 33,
   "id": "9e8d73c2",
   "metadata": {},
   "outputs": [
    {
     "data": {
      "text/plain": [
       "array([39., 36.])"
      ]
     },
     "execution_count": 33,
     "metadata": {},
     "output_type": "execute_result"
    }
   ],
   "source": [
    "np.nanmax(my_matrix, axis=(1, 2))"
   ]
  },
  {
   "cell_type": "code",
   "execution_count": 34,
   "id": "bd45e384",
   "metadata": {},
   "outputs": [
    {
     "data": {
      "text/plain": [
       "array([[ 11.66666667, -16.66666667],\n",
       "       [-16.66666667,  38.66666667]])"
      ]
     },
     "execution_count": 34,
     "metadata": {},
     "output_type": "execute_result"
    }
   ],
   "source": [
    "target1 = np.array([1, 3, 5, 9])\n",
    "target2 = np.array([1, 5, 3, -9])\n",
    "np.cov(target1, target2)"
   ]
  },
  {
   "cell_type": "code",
   "execution_count": 43,
   "id": "c9391029",
   "metadata": {},
   "outputs": [
    {
     "data": {
      "text/plain": [
       "array([[ 1.        , -0.78470603],\n",
       "       [-0.78470603,  1.        ]])"
      ]
     },
     "execution_count": 43,
     "metadata": {},
     "output_type": "execute_result"
    }
   ],
   "source": [
    "corr = np.corrcoef(target1, target2)\n",
    "corr"
   ]
  },
  {
   "cell_type": "code",
   "execution_count": 55,
   "id": "729d1e83",
   "metadata": {},
   "outputs": [
    {
     "data": {
      "text/plain": [
       "array([[2.95803989, 0.        ],\n",
       "       [0.        , 5.38516481]])"
      ]
     },
     "execution_count": 55,
     "metadata": {},
     "output_type": "execute_result"
    }
   ],
   "source": [
    "v = np.diag([np.std(target1), np.std(target2)])\n",
    "v"
   ]
  },
  {
   "cell_type": "code",
   "execution_count": 56,
   "id": "bcb088ce",
   "metadata": {},
   "outputs": [
    {
     "data": {
      "text/plain": [
       "array([[  8.75, -12.5 ],\n",
       "       [-12.5 ,  29.  ]])"
      ]
     },
     "execution_count": 56,
     "metadata": {},
     "output_type": "execute_result"
    }
   ],
   "source": [
    "v @ corr @ v"
   ]
  },
  {
   "cell_type": "code",
   "execution_count": 57,
   "id": "06ebfd3b",
   "metadata": {},
   "outputs": [
    {
     "data": {
      "text/plain": [
       "array([[4, 3, 2],\n",
       "       [1, 0, 1],\n",
       "       [2, 3, 4]])"
      ]
     },
     "execution_count": 57,
     "metadata": {},
     "output_type": "execute_result"
    }
   ],
   "source": [
    "target = np.arange(-4, 5).reshape(3, -1)\n",
    "np.abs(target)"
   ]
  },
  {
   "cell_type": "code",
   "execution_count": 58,
   "id": "6c6e2625",
   "metadata": {},
   "outputs": [
    {
     "data": {
      "text/plain": [
       "array([[16,  9,  4],\n",
       "       [ 1,  0,  1],\n",
       "       [ 4,  9, 16]])"
      ]
     },
     "execution_count": 58,
     "metadata": {},
     "output_type": "execute_result"
    }
   ],
   "source": [
    "np.power(target, 2)"
   ]
  },
  {
   "cell_type": "code",
   "execution_count": 59,
   "id": "13002f2e",
   "metadata": {},
   "outputs": [
    {
     "data": {
      "text/plain": [
       "array([ True,  True])"
      ]
     },
     "execution_count": 59,
     "metadata": {},
     "output_type": "execute_result"
    }
   ],
   "source": [
    "two, ten = 2 * np.ones(2), 10 * np.ones(2)\n",
    "np.abs(np.log(ten) / np.log(two) - np.log2(ten)) < 1e-15"
   ]
  },
  {
   "cell_type": "code",
   "execution_count": 60,
   "id": "046ab1f5",
   "metadata": {},
   "outputs": [],
   "source": [
    "# Ex 1-11"
   ]
  },
  {
   "cell_type": "code",
   "execution_count": 71,
   "id": "be259eea",
   "metadata": {},
   "outputs": [
    {
     "data": {
      "text/plain": [
       "array([[ 1.72696684e+00,  1.90092679e+01,  1.46702384e+00],\n",
       "       [-2.26442565e-01, -5.33841276e-01, -1.70457382e-02],\n",
       "       [-1.33096759e-01, -1.64336530e+00, -3.69129939e-02],\n",
       "       [ 7.89429880e-01,  4.09767251e+00,  1.87880545e+00]])"
      ]
     },
     "execution_count": 71,
     "metadata": {},
     "output_type": "execute_result"
    }
   ],
   "source": [
    "target = np.random.randn(4, 3)\n",
    "np.exp(target) / np.sum(target, axis=1).reshape(4, -1)"
   ]
  },
  {
   "cell_type": "code",
   "execution_count": 70,
   "id": "ee2c1efd",
   "metadata": {},
   "outputs": [
    {
     "data": {
      "text/plain": [
       "array([[ 1.89161028],\n",
       "       [ 0.09730544],\n",
       "       [ 2.03092035],\n",
       "       [-4.14756047]])"
      ]
     },
     "execution_count": 70,
     "metadata": {},
     "output_type": "execute_result"
    }
   ],
   "source": [
    "np.sum(target, axis=1).reshape(4, -1)"
   ]
  },
  {
   "cell_type": "code",
   "execution_count": 73,
   "id": "59421a4a",
   "metadata": {},
   "outputs": [
    {
     "data": {
      "text/plain": [
       "array([False,  True])"
      ]
     },
     "execution_count": 73,
     "metadata": {},
     "output_type": "execute_result"
    }
   ],
   "source": [
    "salary = np.array([[9000, 11000], [11000, 12000]])\n",
    "(salary > 10000).all(axis=1)"
   ]
  },
  {
   "cell_type": "code",
   "execution_count": 74,
   "id": "ef326725",
   "metadata": {},
   "outputs": [
    {
     "data": {
      "text/plain": [
       "array([ True,  True])"
      ]
     },
     "execution_count": 74,
     "metadata": {},
     "output_type": "execute_result"
    }
   ],
   "source": [
    "(salary > 10000).any(axis=1)"
   ]
  },
  {
   "cell_type": "code",
   "execution_count": 75,
   "id": "2162ec36",
   "metadata": {},
   "outputs": [],
   "source": [
    "# Ex 1-12"
   ]
  },
  {
   "cell_type": "code",
   "execution_count": 81,
   "id": "6b686fc8",
   "metadata": {},
   "outputs": [
    {
     "data": {
      "text/plain": [
       "array([[[ 5,  1,  1,  8],\n",
       "        [ 0,  7,  2,  2],\n",
       "        [ 5,  6, 13, 12]],\n",
       "\n",
       "       [[ 2,  0,  1,  4],\n",
       "        [ 0,  3,  0,  7],\n",
       "        [ 7, 12,  6, 13]]])"
      ]
     },
     "execution_count": 81,
     "metadata": {},
     "output_type": "execute_result"
    }
   ],
   "source": [
    "a = np.random.randint(0, 10, (2, 3, 4))\n",
    "b = np.random.randint(0, 10, (3, 1))\n",
    "a | b"
   ]
  },
  {
   "cell_type": "code",
   "execution_count": 84,
   "id": "a13caf94",
   "metadata": {},
   "outputs": [
    {
     "name": "stdout",
     "output_type": "stream",
     "text": [
      "[[6 9 0 9 3]\n",
      " [3 4 2 3 0]\n",
      " [2 7 7 7 9]\n",
      " [3 3 8 9 2]]\n"
     ]
    },
    {
     "data": {
      "text/plain": [
       "array([[0, 1, 0, 1, 0],\n",
       "       [0, 1, 0, 0, 0],\n",
       "       [0, 0, 0, 0, 1],\n",
       "       [0, 0, 0, 1, 0]])"
      ]
     },
     "execution_count": 84,
     "metadata": {},
     "output_type": "execute_result"
    }
   ],
   "source": [
    "target = np.random.randint(0, 10, (4, 5))\n",
    "print(target)\n",
    "row_max = (target >= target.max(axis=1)[:, np.newaxis]).astype(\"int\")\n",
    "row_max"
   ]
  },
  {
   "cell_type": "code",
   "execution_count": 85,
   "id": "35053ded",
   "metadata": {},
   "outputs": [],
   "source": [
    "my_array = np.random.rand(1000, 3)\n",
    "condition1 = ~(my_array.sum(1)>1.5)\n",
    "condition2 = (my_array[:, 0]>0.5) & (my_array[:, 2]>0.5)\n",
    "res = my_array[condition1 | condition2, :]"
   ]
  },
  {
   "cell_type": "code",
   "execution_count": 86,
   "id": "40e03fc0",
   "metadata": {},
   "outputs": [
    {
     "data": {
      "text/plain": [
       "True"
      ]
     },
     "execution_count": 86,
     "metadata": {},
     "output_type": "execute_result"
    }
   ],
   "source": [
    "((res.sum(1)<=1.5) | (res[:, [0, 2]]>0.5).all(1)).all()"
   ]
  },
  {
   "cell_type": "code",
   "execution_count": 96,
   "id": "284d11c8",
   "metadata": {},
   "outputs": [],
   "source": [
    "# Ex1-13"
   ]
  },
  {
   "cell_type": "code",
   "execution_count": 105,
   "id": "fc232587",
   "metadata": {},
   "outputs": [
    {
     "name": "stdout",
     "output_type": "stream",
     "text": [
      "[[0. 0. 0.]\n",
      " [0. 1. 0.]\n",
      " [0. 0. 1.]\n",
      " [0. 0. 0.]]\n"
     ]
    },
    {
     "data": {
      "text/plain": [
       "True"
      ]
     },
     "execution_count": 105,
     "metadata": {},
     "output_type": "execute_result"
    }
   ],
   "source": [
    "target = np.round(np.random.rand(10, 3))\n",
    "condition = target.sum(axis=1)<=1\n",
    "res = target[condition]\n",
    "print(res)\n",
    "(res.sum(axis=1)<=1).all()"
   ]
  },
  {
   "cell_type": "code",
   "execution_count": 120,
   "id": "a7e5fc35",
   "metadata": {},
   "outputs": [
    {
     "name": "stdout",
     "output_type": "stream",
     "text": [
      "[[0. 1. 0.]\n",
      " [0. 0. 0.]\n",
      " [1. 1. 0.]\n",
      " [0. 1. 0.]\n",
      " [1. 0. 0.]\n",
      " [0. 1. 0.]]\n"
     ]
    },
    {
     "data": {
      "text/plain": [
       "True"
      ]
     },
     "execution_count": 120,
     "metadata": {},
     "output_type": "execute_result"
    }
   ],
   "source": [
    "target = np.round(np.random.rand(10, 3))\n",
    "condition = target.sum(axis=1)<3\n",
    "res = target[condition]\n",
    "print(res)\n",
    "(res.sum(axis=1)<3).all()"
   ]
  },
  {
   "cell_type": "code",
   "execution_count": 121,
   "id": "2d7c6698",
   "metadata": {},
   "outputs": [
    {
     "name": "stdout",
     "output_type": "stream",
     "text": [
      "[[0. 1. 1.]\n",
      " [1. 1. 0.]\n",
      " [0. 1. 0.]\n",
      " [0. 1. 1.]\n",
      " [1. 0. 0.]\n",
      " [0. 1. 0.]\n",
      " [0. 1. 1.]\n",
      " [1. 1. 0.]\n",
      " [0. 1. 1.]]\n"
     ]
    },
    {
     "data": {
      "text/plain": [
       "True"
      ]
     },
     "execution_count": 121,
     "metadata": {},
     "output_type": "execute_result"
    }
   ],
   "source": [
    "target = np.round(np.random.rand(10, 3))\n",
    "condition1 = target.sum(axis=1)<3\n",
    "condition2 = target.sum(axis=1)>0\n",
    "res = target[condition1 & condition2]\n",
    "print(res)\n",
    "((res.sum(axis=1)<3) & (res.sum(axis=1)>0)).all()"
   ]
  },
  {
   "cell_type": "code",
   "execution_count": 122,
   "id": "e4793bf1",
   "metadata": {},
   "outputs": [
    {
     "data": {
      "text/plain": [
       "array([[1, 5],\n",
       "       [2, 4]])"
      ]
     },
     "execution_count": 122,
     "metadata": {},
     "output_type": "execute_result"
    }
   ],
   "source": [
    "a = np.arange(4).reshape(-1, 2)\n",
    "np.where(a>1, a.sum(0), a.sum(1))"
   ]
  },
  {
   "cell_type": "code",
   "execution_count": 124,
   "id": "a016472f",
   "metadata": {},
   "outputs": [],
   "source": [
    "# Ex1-14"
   ]
  },
  {
   "cell_type": "code",
   "execution_count": 127,
   "id": "110d72cd",
   "metadata": {},
   "outputs": [
    {
     "data": {
      "text/plain": [
       "True"
      ]
     },
     "execution_count": 127,
     "metadata": {},
     "output_type": "execute_result"
    }
   ],
   "source": [
    "def clip(array, min, max):\n",
    "    tmp = np.where(array>=max, max, array)\n",
    "    return np.where(tmp<=min, min, tmp)\n",
    "\n",
    "target = np.random.randn(4, 3)\n",
    "(np.clip(target, -1, 1) == clip(target, -1, 1)).all()"
   ]
  },
  {
   "cell_type": "code",
   "execution_count": 128,
   "id": "704ce677",
   "metadata": {},
   "outputs": [
    {
     "data": {
      "text/plain": [
       "(array([1, 3, 4, 5]),)"
      ]
     },
     "execution_count": 128,
     "metadata": {},
     "output_type": "execute_result"
    }
   ],
   "source": [
    "a = np.array([0, -5, 0, 1, 3, -1])\n",
    "np.nonzero(a)"
   ]
  },
  {
   "cell_type": "code",
   "execution_count": 129,
   "id": "eaeb2e3b",
   "metadata": {},
   "outputs": [
    {
     "data": {
      "text/plain": [
       "4"
      ]
     },
     "execution_count": 129,
     "metadata": {},
     "output_type": "execute_result"
    }
   ],
   "source": [
    "a.argmax()"
   ]
  },
  {
   "cell_type": "code",
   "execution_count": 130,
   "id": "49662cb7",
   "metadata": {},
   "outputs": [
    {
     "data": {
      "text/plain": [
       "1"
      ]
     },
     "execution_count": 130,
     "metadata": {},
     "output_type": "execute_result"
    }
   ],
   "source": [
    "a.argmin()"
   ]
  },
  {
   "cell_type": "code",
   "execution_count": 131,
   "id": "bc2be77f",
   "metadata": {},
   "outputs": [],
   "source": [
    "# Ex1-15"
   ]
  },
  {
   "cell_type": "code",
   "execution_count": 137,
   "id": "1e04b67d",
   "metadata": {},
   "outputs": [
    {
     "data": {
      "text/plain": [
       "array([[-1,  2, -1],\n",
       "       [ 0,  0,  2],\n",
       "       [-2, -1, -2],\n",
       "       [-2, -3, -1]])"
      ]
     },
     "execution_count": 137,
     "metadata": {},
     "output_type": "execute_result"
    }
   ],
   "source": [
    "target = np.random.randint(-3, 3, (4, 3))\n",
    "target"
   ]
  },
  {
   "cell_type": "code",
   "execution_count": 145,
   "id": "cce263a8",
   "metadata": {},
   "outputs": [
    {
     "data": {
      "text/plain": [
       "(array([0, 0, 0, 1, 2, 2, 2, 3, 3, 3]), array([0, 1, 2, 2, 0, 1, 2, 0, 1, 2]))"
      ]
     },
     "execution_count": 145,
     "metadata": {},
     "output_type": "execute_result"
    }
   ],
   "source": [
    "# The answer is yes because two indices array are return\n",
    "np.nonzero(target)"
   ]
  },
  {
   "cell_type": "code",
   "execution_count": 144,
   "id": "f3b8492d",
   "metadata": {},
   "outputs": [
    {
     "data": {
      "text/plain": [
       "array([-1,  2, -1,  2, -2, -1, -2, -2, -3, -1])"
      ]
     },
     "execution_count": 144,
     "metadata": {},
     "output_type": "execute_result"
    }
   ],
   "source": [
    "target[np.nonzero(target)]"
   ]
  },
  {
   "cell_type": "code",
   "execution_count": null,
   "id": "eaded72a",
   "metadata": {},
   "outputs": [],
   "source": []
  },
  {
   "cell_type": "code",
   "execution_count": null,
   "id": "8e1bf01e",
   "metadata": {},
   "outputs": [],
   "source": []
  }
 ],
 "metadata": {
  "kernelspec": {
   "display_name": "py310",
   "language": "python",
   "name": "py310"
  },
  "language_info": {
   "codemirror_mode": {
    "name": "ipython",
    "version": 3
   },
   "file_extension": ".py",
   "mimetype": "text/x-python",
   "name": "python",
   "nbconvert_exporter": "python",
   "pygments_lexer": "ipython3",
   "version": "3.10.13"
  }
 },
 "nbformat": 4,
 "nbformat_minor": 5
}
