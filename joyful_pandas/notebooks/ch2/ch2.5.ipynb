{
 "cells": [
  {
   "cell_type": "code",
   "execution_count": 1,
   "id": "441136fb",
   "metadata": {},
   "outputs": [],
   "source": [
    "# examples in chapter 2.5 of the Chinese version of book \"Joyful Pandas\" (pandas数据处理与分析)"
   ]
  },
  {
   "cell_type": "code",
   "execution_count": 2,
   "id": "a290251b",
   "metadata": {},
   "outputs": [],
   "source": [
    "import numpy as np\n",
    "import pandas as pd"
   ]
  },
  {
   "cell_type": "code",
   "execution_count": 3,
   "id": "a41c2b2d",
   "metadata": {},
   "outputs": [],
   "source": [
    "import os\n",
    "os.chdir(\"../../\")"
   ]
  },
  {
   "cell_type": "code",
   "execution_count": 35,
   "id": "efd8bbce",
   "metadata": {},
   "outputs": [],
   "source": [
    "# 1.整理某服装店的商品情况"
   ]
  },
  {
   "cell_type": "code",
   "execution_count": 9,
   "id": "b09558b2",
   "metadata": {},
   "outputs": [
    {
     "name": "stdout",
     "output_type": "stream",
     "text": [
      "<class 'pandas.core.frame.DataFrame'>\n",
      "RangeIndex: 10000 entries, 0 to 9999\n",
      "Data columns (total 5 columns):\n",
      " #   Column      Non-Null Count  Dtype \n",
      "---  ------      --------------  ----- \n",
      " 0   type_1      10000 non-null  object\n",
      " 1   type_2      10000 non-null  object\n",
      " 2   buy_price   10000 non-null  int64 \n",
      " 3   sale_price  10000 non-null  int64 \n",
      " 4   product_id  10000 non-null  object\n",
      "dtypes: int64(2), object(3)\n",
      "memory usage: 390.8+ KB\n"
     ]
    }
   ],
   "source": [
    "df = pd.read_csv(\"./data/ch2/clothing_store.csv\")\n",
    "df.info()"
   ]
  },
  {
   "cell_type": "code",
   "execution_count": 26,
   "id": "619b072b",
   "metadata": {},
   "outputs": [
    {
     "data": {
      "text/html": [
       "<div>\n",
       "<style scoped>\n",
       "    .dataframe tbody tr th:only-of-type {\n",
       "        vertical-align: middle;\n",
       "    }\n",
       "\n",
       "    .dataframe tbody tr th {\n",
       "        vertical-align: top;\n",
       "    }\n",
       "\n",
       "    .dataframe thead th {\n",
       "        text-align: right;\n",
       "    }\n",
       "</style>\n",
       "<table border=\"1\" class=\"dataframe\">\n",
       "  <thead>\n",
       "    <tr style=\"text-align: right;\">\n",
       "      <th></th>\n",
       "      <th>type_1</th>\n",
       "      <th>type_2</th>\n",
       "      <th>buy_price</th>\n",
       "      <th>sale_price</th>\n",
       "      <th>product_id</th>\n",
       "    </tr>\n",
       "  </thead>\n",
       "  <tbody>\n",
       "    <tr>\n",
       "      <th>0</th>\n",
       "      <td>裤子</td>\n",
       "      <td>游泳裤</td>\n",
       "      <td>145</td>\n",
       "      <td>154</td>\n",
       "      <td>S007721</td>\n",
       "    </tr>\n",
       "    <tr>\n",
       "      <th>1</th>\n",
       "      <td>鞋子</td>\n",
       "      <td>凉鞋</td>\n",
       "      <td>98</td>\n",
       "      <td>101</td>\n",
       "      <td>S007156</td>\n",
       "    </tr>\n",
       "    <tr>\n",
       "      <th>2</th>\n",
       "      <td>鞋子</td>\n",
       "      <td>拖鞋</td>\n",
       "      <td>122</td>\n",
       "      <td>149</td>\n",
       "      <td>S002286</td>\n",
       "    </tr>\n",
       "    <tr>\n",
       "      <th>3</th>\n",
       "      <td>鞋子</td>\n",
       "      <td>拖鞋</td>\n",
       "      <td>55</td>\n",
       "      <td>74</td>\n",
       "      <td>S009119</td>\n",
       "    </tr>\n",
       "    <tr>\n",
       "      <th>4</th>\n",
       "      <td>鞋子</td>\n",
       "      <td>凉鞋</td>\n",
       "      <td>79</td>\n",
       "      <td>112</td>\n",
       "      <td>S004373</td>\n",
       "    </tr>\n",
       "  </tbody>\n",
       "</table>\n",
       "</div>"
      ],
      "text/plain": [
       "  type_1 type_2  buy_price  sale_price product_id\n",
       "0     裤子    游泳裤        145         154    S007721\n",
       "1     鞋子     凉鞋         98         101    S007156\n",
       "2     鞋子     拖鞋        122         149    S002286\n",
       "3     鞋子     拖鞋         55          74    S009119\n",
       "4     鞋子     凉鞋         79         112    S004373"
      ]
     },
     "execution_count": 26,
     "metadata": {},
     "output_type": "execute_result"
    }
   ],
   "source": [
    "df.head()"
   ]
  },
  {
   "cell_type": "code",
   "execution_count": 27,
   "id": "b2b0a40c",
   "metadata": {},
   "outputs": [
    {
     "data": {
      "text/plain": [
       "24.3481"
      ]
     },
     "execution_count": 27,
     "metadata": {},
     "output_type": "execute_result"
    }
   ],
   "source": [
    "df[\"margin\"] = df.sale_price - df.buy_price\n",
    "df.margin.mean()"
   ]
  },
  {
   "cell_type": "code",
   "execution_count": 28,
   "id": "228d15fd",
   "metadata": {},
   "outputs": [
    {
     "data": {
      "text/html": [
       "<div>\n",
       "<style scoped>\n",
       "    .dataframe tbody tr th:only-of-type {\n",
       "        vertical-align: middle;\n",
       "    }\n",
       "\n",
       "    .dataframe tbody tr th {\n",
       "        vertical-align: top;\n",
       "    }\n",
       "\n",
       "    .dataframe thead th {\n",
       "        text-align: right;\n",
       "    }\n",
       "</style>\n",
       "<table border=\"1\" class=\"dataframe\">\n",
       "  <thead>\n",
       "    <tr style=\"text-align: right;\">\n",
       "      <th></th>\n",
       "      <th>type_1</th>\n",
       "      <th>type_2</th>\n",
       "      <th>buy_price</th>\n",
       "      <th>sale_price</th>\n",
       "      <th>product_id</th>\n",
       "      <th>margin</th>\n",
       "    </tr>\n",
       "  </thead>\n",
       "  <tbody>\n",
       "    <tr>\n",
       "      <th>0</th>\n",
       "      <td>裤子</td>\n",
       "      <td>游泳裤</td>\n",
       "      <td>145</td>\n",
       "      <td>154</td>\n",
       "      <td>S007721</td>\n",
       "      <td>9</td>\n",
       "    </tr>\n",
       "    <tr>\n",
       "      <th>1</th>\n",
       "      <td>鞋子</td>\n",
       "      <td>凉鞋</td>\n",
       "      <td>98</td>\n",
       "      <td>101</td>\n",
       "      <td>S007156</td>\n",
       "      <td>3</td>\n",
       "    </tr>\n",
       "    <tr>\n",
       "      <th>2</th>\n",
       "      <td>鞋子</td>\n",
       "      <td>拖鞋</td>\n",
       "      <td>122</td>\n",
       "      <td>149</td>\n",
       "      <td>S002286</td>\n",
       "      <td>27</td>\n",
       "    </tr>\n",
       "    <tr>\n",
       "      <th>3</th>\n",
       "      <td>鞋子</td>\n",
       "      <td>拖鞋</td>\n",
       "      <td>55</td>\n",
       "      <td>74</td>\n",
       "      <td>S009119</td>\n",
       "      <td>19</td>\n",
       "    </tr>\n",
       "    <tr>\n",
       "      <th>4</th>\n",
       "      <td>鞋子</td>\n",
       "      <td>凉鞋</td>\n",
       "      <td>79</td>\n",
       "      <td>112</td>\n",
       "      <td>S004373</td>\n",
       "      <td>33</td>\n",
       "    </tr>\n",
       "  </tbody>\n",
       "</table>\n",
       "</div>"
      ],
      "text/plain": [
       "  type_1 type_2  buy_price  sale_price product_id  margin\n",
       "0     裤子    游泳裤        145         154    S007721       9\n",
       "1     鞋子     凉鞋         98         101    S007156       3\n",
       "2     鞋子     拖鞋        122         149    S002286      27\n",
       "3     鞋子     拖鞋         55          74    S009119      19\n",
       "4     鞋子     凉鞋         79         112    S004373      33"
      ]
     },
     "execution_count": 28,
     "metadata": {},
     "output_type": "execute_result"
    }
   ],
   "source": [
    "df.head()"
   ]
  },
  {
   "cell_type": "code",
   "execution_count": 18,
   "id": "6f5ad2d5",
   "metadata": {},
   "outputs": [
    {
     "data": {
      "text/plain": [
       "product_id\n",
       "S007721    type_1 is 裤子, type_2 is 游泳裤, buy_price and sal...\n",
       "S007156    type_1 is 鞋子, type_2 is 凉鞋, buy_price and sale...\n",
       "S002286    type_1 is 鞋子, type_2 is 拖鞋, buy_price and sale...\n",
       "S009119    type_1 is 鞋子, type_2 is 拖鞋, buy_price and sale...\n",
       "S004373    type_1 is 鞋子, type_2 is 凉鞋, buy_price and sale...\n",
       "                                 ...                        \n",
       "S004636    type_1 is 鞋子, type_2 is 拖鞋, buy_price and sale...\n",
       "S001560    type_1 is 鞋子, type_2 is 拖鞋, buy_price and sale...\n",
       "S001280    type_1 is 上衣, type_2 is T恤, buy_price and sale...\n",
       "S001207    type_1 is 裤子, type_2 is 长裤, buy_price and sale...\n",
       "S002475    type_1 is 裤子, type_2 is 中裤, buy_price and sale...\n",
       "Name: description, Length: 10000, dtype: string"
      ]
     },
     "execution_count": 18,
     "metadata": {},
     "output_type": "execute_result"
    }
   ],
   "source": [
    "s = pd.Series(\n",
    "    data=[f\"type_1 is {r[0]}, type_2 is {r[1]}, buy_price and sale price is {r[2]} and {r[3]} respectively\" for r in df.values[:]],\n",
    "    index=pd.Index(df.product_id),\n",
    "    dtype=\"string\",\n",
    "    name=\"description\"\n",
    ")\n",
    "s"
   ]
  },
  {
   "cell_type": "code",
   "execution_count": 37,
   "id": "302b7683",
   "metadata": {},
   "outputs": [
    {
     "data": {
      "text/plain": [
       "array(['裤子', '鞋子', '上衣'], dtype=object)"
      ]
     },
     "execution_count": 37,
     "metadata": {},
     "output_type": "execute_result"
    }
   ],
   "source": [
    "t1 = df.type_1.unique()\n",
    "t1"
   ]
  },
  {
   "cell_type": "code",
   "execution_count": 36,
   "id": "64c99094",
   "metadata": {},
   "outputs": [
    {
     "data": {
      "text/plain": [
       "array(['游泳裤', '凉鞋', '拖鞋', '跑鞋', '冲锋衣', 'T恤', '长裤', '羽绒服', '中裤'],\n",
       "      dtype=object)"
      ]
     },
     "execution_count": 36,
     "metadata": {},
     "output_type": "execute_result"
    }
   ],
   "source": [
    "t2 = df.type_2.unique()\n",
    "t2"
   ]
  },
  {
   "cell_type": "code",
   "execution_count": 38,
   "id": "db6c13a9",
   "metadata": {},
   "outputs": [
    {
     "data": {
      "text/plain": [
       "{'上衣': ['冲锋衣', 'T恤', '羽绒服'],\n",
       " '裤子': ['游泳裤', '长裤', '中裤'],\n",
       " '鞋子': ['凉鞋', '拖鞋', '跑鞋']}"
      ]
     },
     "execution_count": 38,
     "metadata": {},
     "output_type": "execute_result"
    }
   ],
   "source": [
    "m = {\n",
    "    t1[2]: [t2[4], t2[5], t2[7]],\n",
    "    t1[0]: [t2[0], t2[6], t2[8]],\n",
    "    t1[1]: [t2[1], t2[2], t2[3]],\n",
    "}\n",
    "m"
   ]
  },
  {
   "cell_type": "code",
   "execution_count": 74,
   "id": "6c594821",
   "metadata": {},
   "outputs": [
    {
     "data": {
      "text/plain": [
       "{'上衣_T恤',\n",
       " '上衣_冲锋衣',\n",
       " '上衣_羽绒服',\n",
       " '裤子_中裤',\n",
       " '裤子_游泳裤',\n",
       " '裤子_长裤',\n",
       " '鞋子_凉鞋',\n",
       " '鞋子_拖鞋',\n",
       " '鞋子_跑鞋'}"
      ]
     },
     "execution_count": 74,
     "metadata": {},
     "output_type": "execute_result"
    }
   ],
   "source": [
    "c = {f\"{t1}_{t2}\" for t1, t2_list in m.items() for t2 in t2_list}\n",
    "c "
   ]
  },
  {
   "cell_type": "code",
   "execution_count": 71,
   "id": "1af86f90",
   "metadata": {},
   "outputs": [
    {
     "data": {
      "text/plain": [
       "(10, 2)"
      ]
     },
     "execution_count": 71,
     "metadata": {},
     "output_type": "execute_result"
    }
   ],
   "source": [
    "d = df[[\"type_1\", \"type_2\"]].drop_duplicates(keep=\"first\")\n",
    "d.shape"
   ]
  },
  {
   "cell_type": "code",
   "execution_count": 78,
   "id": "fd34be27",
   "metadata": {},
   "outputs": [
    {
     "name": "stdout",
     "output_type": "stream",
     "text": [
      "裤子_拖鞋\n"
     ]
    }
   ],
   "source": [
    "v = d[[\"type_1\", \"type_2\"]].values\n",
    "for i, v in enumerate(d[[\"type_1\", \"type_2\"]].values):\n",
    "    ct = f\"{v[0]}_{v[1]}\"\n",
    "#     print(ct)\n",
    "    if ct not in c:\n",
    "        print(ct)"
   ]
  },
  {
   "cell_type": "code",
   "execution_count": 82,
   "id": "3cdbfca4",
   "metadata": {},
   "outputs": [
    {
     "data": {
      "text/html": [
       "<div>\n",
       "<style scoped>\n",
       "    .dataframe tbody tr th:only-of-type {\n",
       "        vertical-align: middle;\n",
       "    }\n",
       "\n",
       "    .dataframe tbody tr th {\n",
       "        vertical-align: top;\n",
       "    }\n",
       "\n",
       "    .dataframe thead th {\n",
       "        text-align: right;\n",
       "    }\n",
       "</style>\n",
       "<table border=\"1\" class=\"dataframe\">\n",
       "  <thead>\n",
       "    <tr style=\"text-align: right;\">\n",
       "      <th></th>\n",
       "      <th>type_1</th>\n",
       "      <th>type_2</th>\n",
       "      <th>buy_price</th>\n",
       "      <th>sale_price</th>\n",
       "      <th>product_id</th>\n",
       "      <th>margin</th>\n",
       "    </tr>\n",
       "  </thead>\n",
       "  <tbody>\n",
       "    <tr>\n",
       "      <th>6023</th>\n",
       "      <td>裤子</td>\n",
       "      <td>拖鞋</td>\n",
       "      <td>155.0</td>\n",
       "      <td>177.0</td>\n",
       "      <td>S008754</td>\n",
       "      <td>22.0</td>\n",
       "    </tr>\n",
       "  </tbody>\n",
       "</table>\n",
       "</div>"
      ],
      "text/plain": [
       "     type_1 type_2  buy_price  sale_price product_id  margin\n",
       "6023     裤子     拖鞋      155.0       177.0    S008754    22.0"
      ]
     },
     "execution_count": 82,
     "metadata": {},
     "output_type": "execute_result"
    }
   ],
   "source": [
    "dd = df.where(df.type_1==\"裤子\").dropna()\n",
    "dd = dd.where(dd.type_2==\"拖鞋\").dropna()\n",
    "dd"
   ]
  },
  {
   "cell_type": "code",
   "execution_count": 33,
   "id": "70da16e8",
   "metadata": {},
   "outputs": [
    {
     "name": "stdout",
     "output_type": "stream",
     "text": [
      "游泳裤: S006542\n",
      "凉鞋: S007182\n",
      "拖鞋: S000155\n",
      "跑鞋: S005563\n",
      "冲锋衣: S003225\n",
      "T恤: S004054\n",
      "长裤: S005169\n",
      "羽绒服: S008451\n",
      "中裤: S000617\n"
     ]
    }
   ],
   "source": [
    "for type_2 in df.type_2.unique():\n",
    "    id = df.where(df.type_2==type_2).sort_values(\"margin\", ascending=False).values[0, 4]\n",
    "    print(f\"{type_2}: {id}\")"
   ]
  },
  {
   "cell_type": "code",
   "execution_count": 34,
   "id": "1c3c3803",
   "metadata": {},
   "outputs": [],
   "source": [
    "# 2. 汇总某课程的学生总评分"
   ]
  },
  {
   "cell_type": "code",
   "execution_count": 83,
   "id": "e2d82656",
   "metadata": {},
   "outputs": [],
   "source": [
    "df = pd.read_csv(\"./data/ch2/student_grade.csv\")"
   ]
  },
  {
   "cell_type": "code",
   "execution_count": 87,
   "id": "a6a9720d",
   "metadata": {},
   "outputs": [
    {
     "data": {
      "text/html": [
       "<div>\n",
       "<style scoped>\n",
       "    .dataframe tbody tr th:only-of-type {\n",
       "        vertical-align: middle;\n",
       "    }\n",
       "\n",
       "    .dataframe tbody tr th {\n",
       "        vertical-align: top;\n",
       "    }\n",
       "\n",
       "    .dataframe thead th {\n",
       "        text-align: right;\n",
       "    }\n",
       "</style>\n",
       "<table border=\"1\" class=\"dataframe\">\n",
       "  <thead>\n",
       "    <tr style=\"text-align: right;\">\n",
       "      <th></th>\n",
       "      <th>Student_ID</th>\n",
       "      <th>Mid_Term_Grade</th>\n",
       "      <th>Final_Grade</th>\n",
       "      <th>Question_Answering_Times</th>\n",
       "      <th>Absence_Times</th>\n",
       "    </tr>\n",
       "  </thead>\n",
       "  <tbody>\n",
       "    <tr>\n",
       "      <th>0</th>\n",
       "      <td>S001</td>\n",
       "      <td>84.0</td>\n",
       "      <td>69.0</td>\n",
       "      <td>0</td>\n",
       "      <td>0</td>\n",
       "    </tr>\n",
       "    <tr>\n",
       "      <th>1</th>\n",
       "      <td>S002</td>\n",
       "      <td>81.0</td>\n",
       "      <td>83.0</td>\n",
       "      <td>4</td>\n",
       "      <td>0</td>\n",
       "    </tr>\n",
       "    <tr>\n",
       "      <th>2</th>\n",
       "      <td>S003</td>\n",
       "      <td>83.0</td>\n",
       "      <td>64.0</td>\n",
       "      <td>1</td>\n",
       "      <td>10</td>\n",
       "    </tr>\n",
       "    <tr>\n",
       "      <th>3</th>\n",
       "      <td>S004</td>\n",
       "      <td>66.0</td>\n",
       "      <td>89.0</td>\n",
       "      <td>4</td>\n",
       "      <td>0</td>\n",
       "    </tr>\n",
       "    <tr>\n",
       "      <th>4</th>\n",
       "      <td>S005</td>\n",
       "      <td>95.0</td>\n",
       "      <td>45.0</td>\n",
       "      <td>4</td>\n",
       "      <td>0</td>\n",
       "    </tr>\n",
       "  </tbody>\n",
       "</table>\n",
       "</div>"
      ],
      "text/plain": [
       "  Student_ID  Mid_Term_Grade  Final_Grade  Question_Answering_Times  \\\n",
       "0       S001            84.0         69.0                         0   \n",
       "1       S002            81.0         83.0                         4   \n",
       "2       S003            83.0         64.0                         1   \n",
       "3       S004            66.0         89.0                         4   \n",
       "4       S005            95.0         45.0                         4   \n",
       "\n",
       "   Absence_Times  \n",
       "0              0  \n",
       "1              0  \n",
       "2             10  \n",
       "3              0  \n",
       "4              0  "
      ]
     },
     "execution_count": 87,
     "metadata": {},
     "output_type": "execute_result"
    }
   ],
   "source": [
    "df.head()"
   ]
  },
  {
   "cell_type": "code",
   "execution_count": 84,
   "id": "b3bf119c",
   "metadata": {},
   "outputs": [
    {
     "name": "stdout",
     "output_type": "stream",
     "text": [
      "<class 'pandas.core.frame.DataFrame'>\n",
      "RangeIndex: 200 entries, 0 to 199\n",
      "Data columns (total 5 columns):\n",
      " #   Column                    Non-Null Count  Dtype  \n",
      "---  ------                    --------------  -----  \n",
      " 0   Student_ID                200 non-null    object \n",
      " 1   Mid_Term_Grade            200 non-null    float64\n",
      " 2   Final_Grade               200 non-null    float64\n",
      " 3   Question_Answering_Times  200 non-null    int64  \n",
      " 4   Absence_Times             200 non-null    int64  \n",
      "dtypes: float64(2), int64(2), object(1)\n",
      "memory usage: 7.9+ KB\n"
     ]
    }
   ],
   "source": [
    "df.info()"
   ]
  },
  {
   "cell_type": "code",
   "execution_count": 91,
   "id": "0def76ae",
   "metadata": {},
   "outputs": [
    {
     "data": {
      "text/plain": [
       "33    S034\n",
       "Name: Student_ID, dtype: object"
      ]
     },
     "execution_count": 91,
     "metadata": {},
     "output_type": "execute_result"
    }
   ],
   "source": [
    "min_abs = df.Absence_Times.min()\n",
    "d = df.where(df.Absence_Times==min_abs)\n",
    "question_max = d.Question_Answering_Times.max()\n",
    "d.where(d.Question_Answering_Times==question_max).dropna().Student_ID"
   ]
  },
  {
   "cell_type": "code",
   "execution_count": 99,
   "id": "e3576b62",
   "metadata": {},
   "outputs": [
    {
     "data": {
      "text/html": [
       "<div>\n",
       "<style scoped>\n",
       "    .dataframe tbody tr th:only-of-type {\n",
       "        vertical-align: middle;\n",
       "    }\n",
       "\n",
       "    .dataframe tbody tr th {\n",
       "        vertical-align: top;\n",
       "    }\n",
       "\n",
       "    .dataframe thead th {\n",
       "        text-align: right;\n",
       "    }\n",
       "</style>\n",
       "<table border=\"1\" class=\"dataframe\">\n",
       "  <thead>\n",
       "    <tr style=\"text-align: right;\">\n",
       "      <th></th>\n",
       "      <th>Student_ID</th>\n",
       "      <th>Mid_Term_Grade</th>\n",
       "      <th>Final_Grade</th>\n",
       "      <th>Question_Answering_Times</th>\n",
       "      <th>Absence_Times</th>\n",
       "      <th>total_score</th>\n",
       "    </tr>\n",
       "  </thead>\n",
       "  <tbody>\n",
       "    <tr>\n",
       "      <th>2</th>\n",
       "      <td>S003</td>\n",
       "      <td>83.0</td>\n",
       "      <td>64.0</td>\n",
       "      <td>1</td>\n",
       "      <td>10</td>\n",
       "      <td>0.0</td>\n",
       "    </tr>\n",
       "    <tr>\n",
       "      <th>13</th>\n",
       "      <td>S014</td>\n",
       "      <td>85.0</td>\n",
       "      <td>66.0</td>\n",
       "      <td>3</td>\n",
       "      <td>6</td>\n",
       "      <td>0.0</td>\n",
       "    </tr>\n",
       "    <tr>\n",
       "      <th>32</th>\n",
       "      <td>S033</td>\n",
       "      <td>75.0</td>\n",
       "      <td>74.0</td>\n",
       "      <td>1</td>\n",
       "      <td>15</td>\n",
       "      <td>0.0</td>\n",
       "    </tr>\n",
       "    <tr>\n",
       "      <th>42</th>\n",
       "      <td>S043</td>\n",
       "      <td>72.0</td>\n",
       "      <td>74.0</td>\n",
       "      <td>0</td>\n",
       "      <td>6</td>\n",
       "      <td>0.0</td>\n",
       "    </tr>\n",
       "    <tr>\n",
       "      <th>92</th>\n",
       "      <td>S093</td>\n",
       "      <td>88.0</td>\n",
       "      <td>76.0</td>\n",
       "      <td>1</td>\n",
       "      <td>6</td>\n",
       "      <td>0.0</td>\n",
       "    </tr>\n",
       "    <tr>\n",
       "      <th>125</th>\n",
       "      <td>S126</td>\n",
       "      <td>77.0</td>\n",
       "      <td>68.0</td>\n",
       "      <td>1</td>\n",
       "      <td>6</td>\n",
       "      <td>0.0</td>\n",
       "    </tr>\n",
       "    <tr>\n",
       "      <th>153</th>\n",
       "      <td>S154</td>\n",
       "      <td>80.0</td>\n",
       "      <td>69.0</td>\n",
       "      <td>1</td>\n",
       "      <td>6</td>\n",
       "      <td>0.0</td>\n",
       "    </tr>\n",
       "  </tbody>\n",
       "</table>\n",
       "</div>"
      ],
      "text/plain": [
       "    Student_ID  Mid_Term_Grade  Final_Grade  Question_Answering_Times  \\\n",
       "2         S003            83.0         64.0                         1   \n",
       "13        S014            85.0         66.0                         3   \n",
       "32        S033            75.0         74.0                         1   \n",
       "42        S043            72.0         74.0                         0   \n",
       "92        S093            88.0         76.0                         1   \n",
       "125       S126            77.0         68.0                         1   \n",
       "153       S154            80.0         69.0                         1   \n",
       "\n",
       "     Absence_Times  total_score  \n",
       "2               10          0.0  \n",
       "13               6          0.0  \n",
       "32              15          0.0  \n",
       "42               6          0.0  \n",
       "92               6          0.0  \n",
       "125              6          0.0  \n",
       "153              6          0.0  "
      ]
     },
     "execution_count": 99,
     "metadata": {},
     "output_type": "execute_result"
    }
   ],
   "source": [
    "s = 0.4 * df[\"Mid_Term_Grade\"] + 0.6 * df[\"Final_Grade\"]\n",
    "s += np.minimum(df[\"Question_Answering_Times\"], 10)\n",
    "s -= 5* df[\"Absence_Times\"]\n",
    "s = s.mask(df.Absence_Times > 5, 0)\n",
    "s = s.clip(0, 100)\n",
    "df[\"total_score\"] = s\n",
    "df.query(\"Absence_Times>5\")"
   ]
  },
  {
   "cell_type": "code",
   "execution_count": 105,
   "id": "1de17e28",
   "metadata": {},
   "outputs": [
    {
     "data": {
      "text/html": [
       "<div>\n",
       "<style scoped>\n",
       "    .dataframe tbody tr th:only-of-type {\n",
       "        vertical-align: middle;\n",
       "    }\n",
       "\n",
       "    .dataframe tbody tr th {\n",
       "        vertical-align: top;\n",
       "    }\n",
       "\n",
       "    .dataframe thead th {\n",
       "        text-align: right;\n",
       "    }\n",
       "</style>\n",
       "<table border=\"1\" class=\"dataframe\">\n",
       "  <thead>\n",
       "    <tr style=\"text-align: right;\">\n",
       "      <th></th>\n",
       "      <th>Student_ID</th>\n",
       "      <th>Mid_Term_Grade</th>\n",
       "      <th>Final_Grade</th>\n",
       "      <th>Question_Answering_Times</th>\n",
       "      <th>Absence_Times</th>\n",
       "      <th>total_score</th>\n",
       "      <th>grade</th>\n",
       "    </tr>\n",
       "  </thead>\n",
       "  <tbody>\n",
       "    <tr>\n",
       "      <th>0</th>\n",
       "      <td>S001</td>\n",
       "      <td>84.0</td>\n",
       "      <td>69.0</td>\n",
       "      <td>0</td>\n",
       "      <td>0</td>\n",
       "      <td>75.0</td>\n",
       "      <td>P</td>\n",
       "    </tr>\n",
       "    <tr>\n",
       "      <th>1</th>\n",
       "      <td>S002</td>\n",
       "      <td>81.0</td>\n",
       "      <td>83.0</td>\n",
       "      <td>4</td>\n",
       "      <td>0</td>\n",
       "      <td>86.2</td>\n",
       "      <td>G</td>\n",
       "    </tr>\n",
       "    <tr>\n",
       "      <th>2</th>\n",
       "      <td>S003</td>\n",
       "      <td>83.0</td>\n",
       "      <td>64.0</td>\n",
       "      <td>1</td>\n",
       "      <td>10</td>\n",
       "      <td>0.0</td>\n",
       "      <td>F</td>\n",
       "    </tr>\n",
       "    <tr>\n",
       "      <th>3</th>\n",
       "      <td>S004</td>\n",
       "      <td>66.0</td>\n",
       "      <td>89.0</td>\n",
       "      <td>4</td>\n",
       "      <td>0</td>\n",
       "      <td>83.8</td>\n",
       "      <td>G</td>\n",
       "    </tr>\n",
       "    <tr>\n",
       "      <th>4</th>\n",
       "      <td>S005</td>\n",
       "      <td>95.0</td>\n",
       "      <td>45.0</td>\n",
       "      <td>4</td>\n",
       "      <td>0</td>\n",
       "      <td>69.0</td>\n",
       "      <td>P</td>\n",
       "    </tr>\n",
       "  </tbody>\n",
       "</table>\n",
       "</div>"
      ],
      "text/plain": [
       "  Student_ID  Mid_Term_Grade  Final_Grade  Question_Answering_Times  \\\n",
       "0       S001            84.0         69.0                         0   \n",
       "1       S002            81.0         83.0                         4   \n",
       "2       S003            83.0         64.0                         1   \n",
       "3       S004            66.0         89.0                         4   \n",
       "4       S005            95.0         45.0                         4   \n",
       "\n",
       "   Absence_Times  total_score grade  \n",
       "0              0         75.0     P  \n",
       "1              0         86.2     G  \n",
       "2             10          0.0     F  \n",
       "3              0         83.8     G  \n",
       "4              0         69.0     P  "
      ]
     },
     "execution_count": 105,
     "metadata": {},
     "output_type": "execute_result"
    }
   ],
   "source": [
    "g = df[\"total_score\"]\n",
    "g = g.mask(df.total_score<60, \"F\")\n",
    "g = g.mask((df.total_score>=60) & (df.total_score<80), \"P\")\n",
    "g = g.mask((df.total_score>=80) & (df.total_score<90), \"G\")\n",
    "g = g.mask(df.total_score>=90, \"E\")\n",
    "df[\"grade\"] = g\n",
    "df.head()"
   ]
  },
  {
   "cell_type": "code",
   "execution_count": 106,
   "id": "28ca94b7",
   "metadata": {},
   "outputs": [
    {
     "name": "stdout",
     "output_type": "stream",
     "text": [
      "ratio for grade P is 0.5\n",
      "ratio for grade G is 0.32\n",
      "ratio for grade F is 0.08\n",
      "ratio for grade E is 0.1\n"
     ]
    }
   ],
   "source": [
    "for g in df.grade.unique():\n",
    "    num_student = df.where(df.grade==g).dropna().shape[0]\n",
    "    print(f\"ratio for grade {g} is {num_student / df.shape[0]}\")"
   ]
  },
  {
   "cell_type": "code",
   "execution_count": 107,
   "id": "6051f2e6",
   "metadata": {},
   "outputs": [],
   "source": [
    "# 3. 指数加权窗口"
   ]
  },
  {
   "cell_type": "code",
   "execution_count": 109,
   "id": "1b442837",
   "metadata": {},
   "outputs": [
    {
     "data": {
      "text/plain": [
       "0   -1\n",
       "1   -1\n",
       "2   -2\n",
       "3   -2\n",
       "4   -2\n",
       "dtype: int64"
      ]
     },
     "execution_count": 109,
     "metadata": {},
     "output_type": "execute_result"
    }
   ],
   "source": [
    "np.random.seed(0)\n",
    "s = pd.Series(np.random.randint(-1, 2, 30).cumsum())\n",
    "s.head()"
   ]
  },
  {
   "cell_type": "code",
   "execution_count": 127,
   "id": "81d2cb55",
   "metadata": {},
   "outputs": [
    {
     "data": {
      "text/plain": [
       "0   -1.000000\n",
       "1   -1.000000\n",
       "2   -1.409836\n",
       "3   -1.609756\n",
       "4   -1.725845\n",
       "5   -1.529101\n",
       "6   -1.648273\n",
       "7   -1.492481\n",
       "8   -1.609720\n",
       "9   -1.921223\n",
       "dtype: float64"
      ]
     },
     "execution_count": 127,
     "metadata": {},
     "output_type": "execute_result"
    }
   ],
   "source": [
    "s.ewm(alpha=0.2).mean().head(10)"
   ]
  },
  {
   "cell_type": "code",
   "execution_count": 142,
   "id": "3338f330",
   "metadata": {},
   "outputs": [
    {
     "data": {
      "text/plain": [
       "[1, 2, 3, 4]"
      ]
     },
     "execution_count": 142,
     "metadata": {},
     "output_type": "execute_result"
    }
   ],
   "source": [
    "A = [1,2,3,4]\n",
    "A[-5:]"
   ]
  },
  {
   "cell_type": "code",
   "execution_count": 134,
   "id": "75a4afdd",
   "metadata": {},
   "outputs": [],
   "source": [
    "alpha = 0.2\n",
    "e = s.expanding().apply(\n",
    "    lambda x: np.multiply(np.array([(1-alpha)**i for i in range(len(x), 0, -1)]), np.array(x)).sum() /\n",
    "    np.array([(1-alpha)**i for i in range(len(x), 0, -1)]).sum()\n",
    ")"
   ]
  },
  {
   "cell_type": "code",
   "execution_count": 135,
   "id": "7142f3d7",
   "metadata": {},
   "outputs": [
    {
     "data": {
      "text/plain": [
       "0   -1.000000\n",
       "1   -1.000000\n",
       "2   -1.409836\n",
       "3   -1.609756\n",
       "4   -1.725845\n",
       "5   -1.529101\n",
       "6   -1.648273\n",
       "7   -1.492481\n",
       "8   -1.609720\n",
       "9   -1.921223\n",
       "dtype: float64"
      ]
     },
     "execution_count": 135,
     "metadata": {},
     "output_type": "execute_result"
    }
   ],
   "source": [
    "e.head(10)"
   ]
  },
  {
   "cell_type": "code",
   "execution_count": 140,
   "id": "3e9fe2d5",
   "metadata": {},
   "outputs": [
    {
     "data": {
      "text/plain": [
       "0   -1.000000\n",
       "1   -1.000000\n",
       "2   -1.409836\n",
       "3   -1.737705\n",
       "4   -2.000000\n",
       "5   -1.590164\n",
       "6   -1.672131\n",
       "7   -1.327869\n",
       "8   -1.672131\n",
       "9   -2.147541\n",
       "dtype: float64"
      ]
     },
     "execution_count": 140,
     "metadata": {},
     "output_type": "execute_result"
    }
   ],
   "source": [
    "n = 3\n",
    "\n",
    "alpha = 0.2\n",
    "e = s.expanding().apply(\n",
    "    lambda x: np.multiply(np.array([(1-alpha)**i for i in range(len(x[-n:]), 0, -1)]), np.array(x[-n:])).sum() / np.array([(1-alpha)**i for i in range(len(x[-n:]), 0, -1)]).sum()\n",
    ")\n",
    "e.head(10)"
   ]
  },
  {
   "cell_type": "code",
   "execution_count": 145,
   "id": "f6ac4a90",
   "metadata": {},
   "outputs": [
    {
     "data": {
      "text/plain": [
       "0   -1.000000\n",
       "1   -1.000000\n",
       "2   -1.409836\n",
       "3   -1.609756\n",
       "4   -1.725845\n",
       "5   -1.529101\n",
       "6   -1.648273\n",
       "7   -1.492481\n",
       "8   -1.609720\n",
       "9   -1.921223\n",
       "dtype: float64"
      ]
     },
     "execution_count": 145,
     "metadata": {},
     "output_type": "execute_result"
    }
   ],
   "source": [
    "# reduces to ewm when n is dynamically expanding\n",
    "alpha = 0.2\n",
    "e = s.expanding().apply(\n",
    "    lambda x: np.multiply(np.array([(1-alpha)**i for i in range(len(x[-len(x):]), 0, -1)]), np.array(x[-len(x):])).sum() / np.array([(1-alpha)**i for i in range(len(x[-len(x):]), 0, -1)]).sum()\n",
    ")\n",
    "e.head(10)"
   ]
  },
  {
   "cell_type": "code",
   "execution_count": null,
   "id": "8005ee0b",
   "metadata": {},
   "outputs": [],
   "source": []
  }
 ],
 "metadata": {
  "kernelspec": {
   "display_name": "py310",
   "language": "python",
   "name": "py310"
  },
  "language_info": {
   "codemirror_mode": {
    "name": "ipython",
    "version": 3
   },
   "file_extension": ".py",
   "mimetype": "text/x-python",
   "name": "python",
   "nbconvert_exporter": "python",
   "pygments_lexer": "ipython3",
   "version": "3.10.13"
  }
 },
 "nbformat": 4,
 "nbformat_minor": 5
}
