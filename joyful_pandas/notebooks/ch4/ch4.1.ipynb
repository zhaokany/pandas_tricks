{
 "cells": [
  {
   "cell_type": "code",
   "execution_count": 2,
   "id": "bdb61074",
   "metadata": {},
   "outputs": [],
   "source": [
    "# examples and exercises in chapter 4.1 of the Chinese version of book \"Joyful Pandas\" (pandas数据处理与分析)"
   ]
  },
  {
   "cell_type": "code",
   "execution_count": 3,
   "id": "c1d23c79",
   "metadata": {},
   "outputs": [],
   "source": [
    "import numpy as np\n",
    "import pandas as pd"
   ]
  },
  {
   "cell_type": "code",
   "execution_count": 4,
   "id": "fe2dba24",
   "metadata": {},
   "outputs": [],
   "source": [
    "import os\n",
    "os.chdir(\"../../\")"
   ]
  },
  {
   "cell_type": "code",
   "execution_count": 5,
   "id": "215b6c2c",
   "metadata": {},
   "outputs": [],
   "source": [
    "# 4.1.1"
   ]
  },
  {
   "cell_type": "code",
   "execution_count": 6,
   "id": "a9778cf0",
   "metadata": {},
   "outputs": [
    {
     "data": {
      "text/plain": [
       "Gender\n",
       "Female    159.6\n",
       "Male      173.4\n",
       "Name: Height, dtype: float64"
      ]
     },
     "execution_count": 6,
     "metadata": {},
     "output_type": "execute_result"
    }
   ],
   "source": [
    "df = pd.read_csv(\"data/learn_pandas.csv\")\n",
    "df.groupby(\"Gender\")[\"Height\"].median()"
   ]
  },
  {
   "cell_type": "code",
   "execution_count": 7,
   "id": "52b9148e",
   "metadata": {},
   "outputs": [],
   "source": [
    "# Ex4-1"
   ]
  },
  {
   "cell_type": "code",
   "execution_count": 8,
   "id": "93a1c563",
   "metadata": {},
   "outputs": [
    {
     "data": {
      "text/plain": [
       "School\n",
       "A    56.442308\n",
       "B    55.666667\n",
       "C    54.000000\n",
       "D    54.223881\n",
       "Name: Weight, dtype: float64"
      ]
     },
     "execution_count": 8,
     "metadata": {},
     "output_type": "execute_result"
    }
   ],
   "source": [
    "df.groupby(\"School\")[\"Weight\"].mean()"
   ]
  },
  {
   "cell_type": "code",
   "execution_count": 9,
   "id": "caa00f91",
   "metadata": {},
   "outputs": [],
   "source": [
    "# 4.1.2"
   ]
  },
  {
   "cell_type": "code",
   "execution_count": 12,
   "id": "a671fdae",
   "metadata": {},
   "outputs": [
    {
     "data": {
      "text/html": [
       "<div>\n",
       "<style scoped>\n",
       "    .dataframe tbody tr th:only-of-type {\n",
       "        vertical-align: middle;\n",
       "    }\n",
       "\n",
       "    .dataframe tbody tr th {\n",
       "        vertical-align: top;\n",
       "    }\n",
       "\n",
       "    .dataframe thead th {\n",
       "        text-align: right;\n",
       "    }\n",
       "</style>\n",
       "<table border=\"1\" class=\"dataframe\">\n",
       "  <thead>\n",
       "    <tr style=\"text-align: right;\">\n",
       "      <th></th>\n",
       "      <th></th>\n",
       "      <th>Height</th>\n",
       "      <th>Weight</th>\n",
       "    </tr>\n",
       "    <tr>\n",
       "      <th>School</th>\n",
       "      <th>Gender</th>\n",
       "      <th></th>\n",
       "      <th></th>\n",
       "    </tr>\n",
       "  </thead>\n",
       "  <tbody>\n",
       "    <tr>\n",
       "      <th rowspan=\"2\" valign=\"top\">A</th>\n",
       "      <th>Female</th>\n",
       "      <td>159.122500</td>\n",
       "      <td>48.513514</td>\n",
       "    </tr>\n",
       "    <tr>\n",
       "      <th>Male</th>\n",
       "      <td>176.760000</td>\n",
       "      <td>76.000000</td>\n",
       "    </tr>\n",
       "    <tr>\n",
       "      <th rowspan=\"2\" valign=\"top\">B</th>\n",
       "      <th>Female</th>\n",
       "      <td>158.666667</td>\n",
       "      <td>46.650000</td>\n",
       "    </tr>\n",
       "    <tr>\n",
       "      <th>Male</th>\n",
       "      <td>172.030000</td>\n",
       "      <td>73.700000</td>\n",
       "    </tr>\n",
       "    <tr>\n",
       "      <th rowspan=\"2\" valign=\"top\">C</th>\n",
       "      <th>Female</th>\n",
       "      <td>158.776923</td>\n",
       "      <td>47.900000</td>\n",
       "    </tr>\n",
       "    <tr>\n",
       "      <th>Male</th>\n",
       "      <td>174.212500</td>\n",
       "      <td>72.300000</td>\n",
       "    </tr>\n",
       "    <tr>\n",
       "      <th rowspan=\"2\" valign=\"top\">D</th>\n",
       "      <th>Female</th>\n",
       "      <td>159.753333</td>\n",
       "      <td>48.000000</td>\n",
       "    </tr>\n",
       "    <tr>\n",
       "      <th>Male</th>\n",
       "      <td>171.638889</td>\n",
       "      <td>69.947368</td>\n",
       "    </tr>\n",
       "  </tbody>\n",
       "</table>\n",
       "</div>"
      ],
      "text/plain": [
       "                   Height     Weight\n",
       "School Gender                       \n",
       "A      Female  159.122500  48.513514\n",
       "       Male    176.760000  76.000000\n",
       "B      Female  158.666667  46.650000\n",
       "       Male    172.030000  73.700000\n",
       "C      Female  158.776923  47.900000\n",
       "       Male    174.212500  72.300000\n",
       "D      Female  159.753333  48.000000\n",
       "       Male    171.638889  69.947368"
      ]
     },
     "execution_count": 12,
     "metadata": {},
     "output_type": "execute_result"
    }
   ],
   "source": [
    "df.groupby([\"School\", \"Gender\"])[[\"Height\", \"Weight\"]].mean()"
   ]
  },
  {
   "cell_type": "code",
   "execution_count": 13,
   "id": "1655c60d",
   "metadata": {},
   "outputs": [
    {
     "data": {
      "text/plain": [
       "Weight\n",
       "False    159.034646\n",
       "True     172.705357\n",
       "Name: Height, dtype: float64"
      ]
     },
     "execution_count": 13,
     "metadata": {},
     "output_type": "execute_result"
    }
   ],
   "source": [
    "condition = df.Weight > df.Weight.mean()\n",
    "df.groupby(condition)[\"Height\"].mean()"
   ]
  },
  {
   "cell_type": "code",
   "execution_count": 14,
   "id": "9b52ee7e",
   "metadata": {},
   "outputs": [],
   "source": [
    "# Ex4-2"
   ]
  },
  {
   "cell_type": "code",
   "execution_count": 18,
   "id": "d5a689a6",
   "metadata": {},
   "outputs": [
    {
     "data": {
      "text/plain": [
       "Weight\n",
       "high      174.511364\n",
       "low       155.891071\n",
       "normal    162.174699\n",
       "Name: Height, dtype: float64"
      ]
     },
     "execution_count": 18,
     "metadata": {},
     "output_type": "execute_result"
    }
   ],
   "source": [
    "q_75 = df.Weight.quantile(.75)\n",
    "q_25 = df.Weight.quantile(.25)\n",
    "\n",
    "group = df.Weight.apply(lambda x: \"high\" if x>= q_75 else (\"normal\" if x > q_25 else \"low\"))\n",
    "df.groupby(group)[\"Height\"].mean()"
   ]
  },
  {
   "cell_type": "code",
   "execution_count": 19,
   "id": "d314bc6d",
   "metadata": {},
   "outputs": [
    {
     "data": {
      "text/plain": [
       "a    164.756716\n",
       "b    163.037931\n",
       "c    161.620690\n",
       "Name: Height, dtype: float64"
      ]
     },
     "execution_count": 19,
     "metadata": {},
     "output_type": "execute_result"
    }
   ],
   "source": [
    "np.random.seed(0)\n",
    "item = np.random.choice(list(\"abc\"), df.shape[0])\n",
    "df.groupby(item)[\"Height\"].mean()"
   ]
  },
  {
   "cell_type": "code",
   "execution_count": 20,
   "id": "ba096d18",
   "metadata": {},
   "outputs": [
    {
     "data": {
      "text/plain": [
       "Weight   \n",
       "False   a    159.541860\n",
       "        b    158.787500\n",
       "        c    158.763636\n",
       "True    a    174.100000\n",
       "        b    172.483333\n",
       "        c    170.600000\n",
       "Name: Height, dtype: float64"
      ]
     },
     "execution_count": 20,
     "metadata": {},
     "output_type": "execute_result"
    }
   ],
   "source": [
    "df.groupby([condition, item])[\"Height\"].mean()"
   ]
  },
  {
   "cell_type": "code",
   "execution_count": 21,
   "id": "066b37aa",
   "metadata": {},
   "outputs": [
    {
     "data": {
      "text/html": [
       "<div>\n",
       "<style scoped>\n",
       "    .dataframe tbody tr th:only-of-type {\n",
       "        vertical-align: middle;\n",
       "    }\n",
       "\n",
       "    .dataframe tbody tr th {\n",
       "        vertical-align: top;\n",
       "    }\n",
       "\n",
       "    .dataframe thead th {\n",
       "        text-align: right;\n",
       "    }\n",
       "</style>\n",
       "<table border=\"1\" class=\"dataframe\">\n",
       "  <thead>\n",
       "    <tr style=\"text-align: right;\">\n",
       "      <th></th>\n",
       "      <th>School</th>\n",
       "      <th>Gender</th>\n",
       "    </tr>\n",
       "  </thead>\n",
       "  <tbody>\n",
       "    <tr>\n",
       "      <th>0</th>\n",
       "      <td>A</td>\n",
       "      <td>Female</td>\n",
       "    </tr>\n",
       "    <tr>\n",
       "      <th>1</th>\n",
       "      <td>B</td>\n",
       "      <td>Male</td>\n",
       "    </tr>\n",
       "    <tr>\n",
       "      <th>2</th>\n",
       "      <td>A</td>\n",
       "      <td>Male</td>\n",
       "    </tr>\n",
       "    <tr>\n",
       "      <th>3</th>\n",
       "      <td>C</td>\n",
       "      <td>Female</td>\n",
       "    </tr>\n",
       "    <tr>\n",
       "      <th>4</th>\n",
       "      <td>C</td>\n",
       "      <td>Male</td>\n",
       "    </tr>\n",
       "    <tr>\n",
       "      <th>5</th>\n",
       "      <td>D</td>\n",
       "      <td>Female</td>\n",
       "    </tr>\n",
       "    <tr>\n",
       "      <th>9</th>\n",
       "      <td>B</td>\n",
       "      <td>Female</td>\n",
       "    </tr>\n",
       "    <tr>\n",
       "      <th>16</th>\n",
       "      <td>D</td>\n",
       "      <td>Male</td>\n",
       "    </tr>\n",
       "  </tbody>\n",
       "</table>\n",
       "</div>"
      ],
      "text/plain": [
       "   School  Gender\n",
       "0       A  Female\n",
       "1       B    Male\n",
       "2       A    Male\n",
       "3       C  Female\n",
       "4       C    Male\n",
       "5       D  Female\n",
       "9       B  Female\n",
       "16      D    Male"
      ]
     },
     "execution_count": 21,
     "metadata": {},
     "output_type": "execute_result"
    }
   ],
   "source": [
    "df[[\"School\", \"Gender\"]].drop_duplicates()"
   ]
  },
  {
   "cell_type": "code",
   "execution_count": 22,
   "id": "5e436a3c",
   "metadata": {},
   "outputs": [
    {
     "data": {
      "text/plain": [
       "School  Gender\n",
       "A       Female    159.122500\n",
       "        Male      176.760000\n",
       "B       Female    158.666667\n",
       "        Male      172.030000\n",
       "C       Female    158.776923\n",
       "        Male      174.212500\n",
       "D       Female    159.753333\n",
       "        Male      171.638889\n",
       "Name: Height, dtype: float64"
      ]
     },
     "execution_count": 22,
     "metadata": {},
     "output_type": "execute_result"
    }
   ],
   "source": [
    "df.groupby([df[\"School\"], df[\"Gender\"]])[\"Height\"].mean()"
   ]
  },
  {
   "cell_type": "code",
   "execution_count": 23,
   "id": "d8884e05",
   "metadata": {},
   "outputs": [],
   "source": [
    "# 4.1.3"
   ]
  },
  {
   "cell_type": "code",
   "execution_count": 24,
   "id": "587e7983",
   "metadata": {},
   "outputs": [
    {
     "data": {
      "text/plain": [
       "<pandas.core.groupby.generic.DataFrameGroupBy object at 0x7fa421ea67a0>"
      ]
     },
     "execution_count": 24,
     "metadata": {},
     "output_type": "execute_result"
    }
   ],
   "source": [
    "gb = df.groupby([\"School\", \"Grade\"])\n",
    "gb"
   ]
  },
  {
   "cell_type": "code",
   "execution_count": 25,
   "id": "36b337ed",
   "metadata": {},
   "outputs": [
    {
     "data": {
      "text/plain": [
       "16"
      ]
     },
     "execution_count": 25,
     "metadata": {},
     "output_type": "execute_result"
    }
   ],
   "source": [
    "gb.ngroups"
   ]
  },
  {
   "cell_type": "code",
   "execution_count": 26,
   "id": "81131965",
   "metadata": {},
   "outputs": [
    {
     "data": {
      "text/plain": [
       "dict_keys([('A', 'Freshman'), ('A', 'Junior'), ('A', 'Senior'), ('A', 'Sophomore'), ('B', 'Freshman'), ('B', 'Junior'), ('B', 'Senior'), ('B', 'Sophomore'), ('C', 'Freshman'), ('C', 'Junior'), ('C', 'Senior'), ('C', 'Sophomore'), ('D', 'Freshman'), ('D', 'Junior'), ('D', 'Senior'), ('D', 'Sophomore')])"
      ]
     },
     "execution_count": 26,
     "metadata": {},
     "output_type": "execute_result"
    }
   ],
   "source": [
    "res = gb.groups\n",
    "res.keys()"
   ]
  },
  {
   "cell_type": "code",
   "execution_count": 29,
   "id": "974c3087",
   "metadata": {},
   "outputs": [
    {
     "data": {
      "text/plain": [
       "25"
      ]
     },
     "execution_count": 29,
     "metadata": {},
     "output_type": "execute_result"
    }
   ],
   "source": [
    "df.iloc[:5,:5].size"
   ]
  },
  {
   "cell_type": "code",
   "execution_count": 30,
   "id": "9805e5ce",
   "metadata": {},
   "outputs": [
    {
     "data": {
      "text/plain": [
       "School  Grade    \n",
       "A       Freshman     13\n",
       "        Junior       17\n",
       "        Senior       22\n",
       "        Sophomore     5\n",
       "B       Freshman     13\n",
       "        Junior        8\n",
       "        Senior        8\n",
       "        Sophomore     5\n",
       "C       Freshman      9\n",
       "        Junior       12\n",
       "        Senior       11\n",
       "        Sophomore     8\n",
       "D       Freshman     17\n",
       "        Junior       22\n",
       "        Senior       14\n",
       "        Sophomore    16\n",
       "dtype: int64"
      ]
     },
     "execution_count": 30,
     "metadata": {},
     "output_type": "execute_result"
    }
   ],
   "source": [
    "gb.size()"
   ]
  },
  {
   "cell_type": "code",
   "execution_count": 33,
   "id": "344798ba",
   "metadata": {},
   "outputs": [
    {
     "data": {
      "text/html": [
       "<div>\n",
       "<style scoped>\n",
       "    .dataframe tbody tr th:only-of-type {\n",
       "        vertical-align: middle;\n",
       "    }\n",
       "\n",
       "    .dataframe tbody tr th {\n",
       "        vertical-align: top;\n",
       "    }\n",
       "\n",
       "    .dataframe thead th {\n",
       "        text-align: right;\n",
       "    }\n",
       "</style>\n",
       "<table border=\"1\" class=\"dataframe\">\n",
       "  <thead>\n",
       "    <tr style=\"text-align: right;\">\n",
       "      <th></th>\n",
       "      <th>School</th>\n",
       "      <th>Grade</th>\n",
       "      <th>Name</th>\n",
       "    </tr>\n",
       "  </thead>\n",
       "  <tbody>\n",
       "    <tr>\n",
       "      <th>0</th>\n",
       "      <td>A</td>\n",
       "      <td>Freshman</td>\n",
       "      <td>Gaopeng Yang</td>\n",
       "    </tr>\n",
       "    <tr>\n",
       "      <th>6</th>\n",
       "      <td>A</td>\n",
       "      <td>Freshman</td>\n",
       "      <td>Qiang Chu</td>\n",
       "    </tr>\n",
       "    <tr>\n",
       "      <th>10</th>\n",
       "      <td>A</td>\n",
       "      <td>Freshman</td>\n",
       "      <td>Xiaopeng Zhou</td>\n",
       "    </tr>\n",
       "  </tbody>\n",
       "</table>\n",
       "</div>"
      ],
      "text/plain": [
       "   School     Grade           Name\n",
       "0       A  Freshman   Gaopeng Yang\n",
       "6       A  Freshman      Qiang Chu\n",
       "10      A  Freshman  Xiaopeng Zhou"
      ]
     },
     "execution_count": 33,
     "metadata": {},
     "output_type": "execute_result"
    }
   ],
   "source": [
    "gb.get_group((\"A\", \"Freshman\")).iloc[:3,:3]"
   ]
  },
  {
   "cell_type": "code",
   "execution_count": null,
   "id": "c33cf183",
   "metadata": {},
   "outputs": [],
   "source": []
  }
 ],
 "metadata": {
  "kernelspec": {
   "display_name": "py310",
   "language": "python",
   "name": "py310"
  },
  "language_info": {
   "codemirror_mode": {
    "name": "ipython",
    "version": 3
   },
   "file_extension": ".py",
   "mimetype": "text/x-python",
   "name": "python",
   "nbconvert_exporter": "python",
   "pygments_lexer": "ipython3",
   "version": "3.10.13"
  }
 },
 "nbformat": 4,
 "nbformat_minor": 5
}
