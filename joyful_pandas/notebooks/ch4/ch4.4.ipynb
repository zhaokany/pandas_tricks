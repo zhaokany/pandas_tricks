{
 "cells": [
  {
   "cell_type": "code",
   "execution_count": 1,
   "id": "f8196bc8",
   "metadata": {},
   "outputs": [],
   "source": [
    "# examples and exercises in chapter 4.4 of the Chinese version of book \"Joyful Pandas\" (pandas数据处理与分析)"
   ]
  },
  {
   "cell_type": "code",
   "execution_count": 2,
   "id": "f1efcffd",
   "metadata": {},
   "outputs": [],
   "source": [
    "import numpy as np\n",
    "import pandas as pd"
   ]
  },
  {
   "cell_type": "code",
   "execution_count": 3,
   "id": "2963dbb5",
   "metadata": {},
   "outputs": [],
   "source": [
    "import os\n",
    "os.chdir(\"../../\")"
   ]
  },
  {
   "cell_type": "code",
   "execution_count": 4,
   "id": "7ba05674",
   "metadata": {},
   "outputs": [],
   "source": [
    "df = pd.read_csv(\"data/learn_pandas.csv\")\n",
    "gb = df.groupby(\"Gender\")[[\"Height\", \"Weight\"]]"
   ]
  },
  {
   "cell_type": "code",
   "execution_count": 5,
   "id": "51596db7",
   "metadata": {},
   "outputs": [
    {
     "data": {
      "text/plain": [
       "Gender\n",
       "Female    18.860930\n",
       "Male      24.318654\n",
       "dtype: float64"
      ]
     },
     "execution_count": 5,
     "metadata": {},
     "output_type": "execute_result"
    }
   ],
   "source": [
    "def BMI(x):\n",
    "    Height = x[\"Height\"] / 100\n",
    "    Weight = x[\"Weight\"]\n",
    "    BMI_value = Weight / Height**2\n",
    "    return BMI_value.mean()\n",
    "gb.apply(BMI)"
   ]
  },
  {
   "cell_type": "code",
   "execution_count": 6,
   "id": "b52c8de3",
   "metadata": {},
   "outputs": [
    {
     "data": {
      "text/plain": [
       "Gender  Test_Number\n",
       "Female  1              0\n",
       "        2              0\n",
       "        3              0\n",
       "Male    1              0\n",
       "        2              0\n",
       "        3              0\n",
       "Name: Height, dtype: int64"
      ]
     },
     "execution_count": 6,
     "metadata": {},
     "output_type": "execute_result"
    }
   ],
   "source": [
    "gb1 = df.groupby([\"Gender\", \"Test_Number\"])[\"Height\"]\n",
    "gb2 = df.groupby([\"Gender\", \"Test_Number\"])[[\"Height\", \"Weight\"]]\n",
    "gb1.apply(lambda x: 0)"
   ]
  },
  {
   "cell_type": "code",
   "execution_count": 11,
   "id": "7111e45a",
   "metadata": {},
   "outputs": [
    {
     "data": {
      "text/plain": [
       "Gender  Test_Number\n",
       "Female  1              [0, 0]\n",
       "        2              [0, 0]\n",
       "        3              [0, 0]\n",
       "Male    1              [0, 0]\n",
       "        2              [0, 0]\n",
       "        3              [0, 0]\n",
       "dtype: object"
      ]
     },
     "execution_count": 11,
     "metadata": {},
     "output_type": "execute_result"
    }
   ],
   "source": [
    "gb2.apply(lambda x: [0,0])"
   ]
  },
  {
   "cell_type": "code",
   "execution_count": 12,
   "id": "ff1ef827",
   "metadata": {},
   "outputs": [
    {
     "data": {
      "text/plain": [
       "Gender  Test_Number   \n",
       "Female  1            a    0\n",
       "                     b    0\n",
       "        2            a    0\n",
       "                     b    0\n",
       "        3            a    0\n",
       "                     b    0\n",
       "Male    1            a    0\n",
       "                     b    0\n",
       "        2            a    0\n",
       "                     b    0\n",
       "        3            a    0\n",
       "                     b    0\n",
       "Name: Height, dtype: int64"
      ]
     },
     "execution_count": 12,
     "metadata": {},
     "output_type": "execute_result"
    }
   ],
   "source": [
    "gb1.apply(lambda x: pd.Series([0,0], index=[\"a\",\"b\"]))"
   ]
  },
  {
   "cell_type": "code",
   "execution_count": 13,
   "id": "3a2d97b7",
   "metadata": {},
   "outputs": [
    {
     "data": {
      "text/html": [
       "<div>\n",
       "<style scoped>\n",
       "    .dataframe tbody tr th:only-of-type {\n",
       "        vertical-align: middle;\n",
       "    }\n",
       "\n",
       "    .dataframe tbody tr th {\n",
       "        vertical-align: top;\n",
       "    }\n",
       "\n",
       "    .dataframe thead th {\n",
       "        text-align: right;\n",
       "    }\n",
       "</style>\n",
       "<table border=\"1\" class=\"dataframe\">\n",
       "  <thead>\n",
       "    <tr style=\"text-align: right;\">\n",
       "      <th></th>\n",
       "      <th></th>\n",
       "      <th>a</th>\n",
       "      <th>b</th>\n",
       "    </tr>\n",
       "    <tr>\n",
       "      <th>Gender</th>\n",
       "      <th>Test_Number</th>\n",
       "      <th></th>\n",
       "      <th></th>\n",
       "    </tr>\n",
       "  </thead>\n",
       "  <tbody>\n",
       "    <tr>\n",
       "      <th rowspan=\"3\" valign=\"top\">Female</th>\n",
       "      <th>1</th>\n",
       "      <td>0</td>\n",
       "      <td>0</td>\n",
       "    </tr>\n",
       "    <tr>\n",
       "      <th>2</th>\n",
       "      <td>0</td>\n",
       "      <td>0</td>\n",
       "    </tr>\n",
       "    <tr>\n",
       "      <th>3</th>\n",
       "      <td>0</td>\n",
       "      <td>0</td>\n",
       "    </tr>\n",
       "    <tr>\n",
       "      <th rowspan=\"3\" valign=\"top\">Male</th>\n",
       "      <th>1</th>\n",
       "      <td>0</td>\n",
       "      <td>0</td>\n",
       "    </tr>\n",
       "    <tr>\n",
       "      <th>2</th>\n",
       "      <td>0</td>\n",
       "      <td>0</td>\n",
       "    </tr>\n",
       "    <tr>\n",
       "      <th>3</th>\n",
       "      <td>0</td>\n",
       "      <td>0</td>\n",
       "    </tr>\n",
       "  </tbody>\n",
       "</table>\n",
       "</div>"
      ],
      "text/plain": [
       "                    a  b\n",
       "Gender Test_Number      \n",
       "Female 1            0  0\n",
       "       2            0  0\n",
       "       3            0  0\n",
       "Male   1            0  0\n",
       "       2            0  0\n",
       "       3            0  0"
      ]
     },
     "execution_count": 13,
     "metadata": {},
     "output_type": "execute_result"
    }
   ],
   "source": [
    "gb2.apply(lambda x: pd.Series([0,0], index=[\"a\",\"b\"]))"
   ]
  },
  {
   "cell_type": "code",
   "execution_count": 15,
   "id": "bf105916",
   "metadata": {},
   "outputs": [
    {
     "data": {
      "text/html": [
       "<div>\n",
       "<style scoped>\n",
       "    .dataframe tbody tr th:only-of-type {\n",
       "        vertical-align: middle;\n",
       "    }\n",
       "\n",
       "    .dataframe tbody tr th {\n",
       "        vertical-align: top;\n",
       "    }\n",
       "\n",
       "    .dataframe thead tr th {\n",
       "        text-align: left;\n",
       "    }\n",
       "\n",
       "    .dataframe thead tr:last-of-type th {\n",
       "        text-align: right;\n",
       "    }\n",
       "</style>\n",
       "<table border=\"1\" class=\"dataframe\">\n",
       "  <thead>\n",
       "    <tr>\n",
       "      <th></th>\n",
       "      <th></th>\n",
       "      <th></th>\n",
       "      <th>w</th>\n",
       "      <th>y</th>\n",
       "    </tr>\n",
       "    <tr>\n",
       "      <th></th>\n",
       "      <th></th>\n",
       "      <th></th>\n",
       "      <th>x</th>\n",
       "      <th>z</th>\n",
       "    </tr>\n",
       "    <tr>\n",
       "      <th>Gender</th>\n",
       "      <th>Test_Number</th>\n",
       "      <th></th>\n",
       "      <th></th>\n",
       "      <th></th>\n",
       "    </tr>\n",
       "  </thead>\n",
       "  <tbody>\n",
       "    <tr>\n",
       "      <th rowspan=\"6\" valign=\"top\">Female</th>\n",
       "      <th rowspan=\"2\" valign=\"top\">1</th>\n",
       "      <th>a</th>\n",
       "      <td>1.0</td>\n",
       "      <td>1.0</td>\n",
       "    </tr>\n",
       "    <tr>\n",
       "      <th>b</th>\n",
       "      <td>1.0</td>\n",
       "      <td>1.0</td>\n",
       "    </tr>\n",
       "    <tr>\n",
       "      <th rowspan=\"2\" valign=\"top\">2</th>\n",
       "      <th>a</th>\n",
       "      <td>1.0</td>\n",
       "      <td>1.0</td>\n",
       "    </tr>\n",
       "    <tr>\n",
       "      <th>b</th>\n",
       "      <td>1.0</td>\n",
       "      <td>1.0</td>\n",
       "    </tr>\n",
       "    <tr>\n",
       "      <th rowspan=\"2\" valign=\"top\">3</th>\n",
       "      <th>a</th>\n",
       "      <td>1.0</td>\n",
       "      <td>1.0</td>\n",
       "    </tr>\n",
       "    <tr>\n",
       "      <th>b</th>\n",
       "      <td>1.0</td>\n",
       "      <td>1.0</td>\n",
       "    </tr>\n",
       "    <tr>\n",
       "      <th rowspan=\"4\" valign=\"top\">Male</th>\n",
       "      <th rowspan=\"2\" valign=\"top\">1</th>\n",
       "      <th>a</th>\n",
       "      <td>1.0</td>\n",
       "      <td>1.0</td>\n",
       "    </tr>\n",
       "    <tr>\n",
       "      <th>b</th>\n",
       "      <td>1.0</td>\n",
       "      <td>1.0</td>\n",
       "    </tr>\n",
       "    <tr>\n",
       "      <th rowspan=\"2\" valign=\"top\">2</th>\n",
       "      <th>a</th>\n",
       "      <td>1.0</td>\n",
       "      <td>1.0</td>\n",
       "    </tr>\n",
       "    <tr>\n",
       "      <th>b</th>\n",
       "      <td>1.0</td>\n",
       "      <td>1.0</td>\n",
       "    </tr>\n",
       "  </tbody>\n",
       "</table>\n",
       "</div>"
      ],
      "text/plain": [
       "                        w    y\n",
       "                        x    z\n",
       "Gender Test_Number            \n",
       "Female 1           a  1.0  1.0\n",
       "                   b  1.0  1.0\n",
       "       2           a  1.0  1.0\n",
       "                   b  1.0  1.0\n",
       "       3           a  1.0  1.0\n",
       "                   b  1.0  1.0\n",
       "Male   1           a  1.0  1.0\n",
       "                   b  1.0  1.0\n",
       "       2           a  1.0  1.0\n",
       "                   b  1.0  1.0"
      ]
     },
     "execution_count": 15,
     "metadata": {},
     "output_type": "execute_result"
    }
   ],
   "source": [
    "temp_df = pd.DataFrame(np.ones((2,2)), index=[\"a\",\"b\"], columns=pd.Index([(\"w\",\"x\"),(\"y\",\"z\")]))\n",
    "gb1.apply(lambda x: temp_df).head(10)"
   ]
  },
  {
   "cell_type": "code",
   "execution_count": 16,
   "id": "5319d2aa",
   "metadata": {},
   "outputs": [
    {
     "data": {
      "text/html": [
       "<div>\n",
       "<style scoped>\n",
       "    .dataframe tbody tr th:only-of-type {\n",
       "        vertical-align: middle;\n",
       "    }\n",
       "\n",
       "    .dataframe tbody tr th {\n",
       "        vertical-align: top;\n",
       "    }\n",
       "\n",
       "    .dataframe thead tr th {\n",
       "        text-align: left;\n",
       "    }\n",
       "\n",
       "    .dataframe thead tr:last-of-type th {\n",
       "        text-align: right;\n",
       "    }\n",
       "</style>\n",
       "<table border=\"1\" class=\"dataframe\">\n",
       "  <thead>\n",
       "    <tr>\n",
       "      <th></th>\n",
       "      <th></th>\n",
       "      <th></th>\n",
       "      <th>w</th>\n",
       "      <th>y</th>\n",
       "    </tr>\n",
       "    <tr>\n",
       "      <th></th>\n",
       "      <th></th>\n",
       "      <th></th>\n",
       "      <th>x</th>\n",
       "      <th>z</th>\n",
       "    </tr>\n",
       "    <tr>\n",
       "      <th>Gender</th>\n",
       "      <th>Test_Number</th>\n",
       "      <th></th>\n",
       "      <th></th>\n",
       "      <th></th>\n",
       "    </tr>\n",
       "  </thead>\n",
       "  <tbody>\n",
       "    <tr>\n",
       "      <th rowspan=\"6\" valign=\"top\">Female</th>\n",
       "      <th rowspan=\"2\" valign=\"top\">1</th>\n",
       "      <th>a</th>\n",
       "      <td>1.0</td>\n",
       "      <td>1.0</td>\n",
       "    </tr>\n",
       "    <tr>\n",
       "      <th>b</th>\n",
       "      <td>1.0</td>\n",
       "      <td>1.0</td>\n",
       "    </tr>\n",
       "    <tr>\n",
       "      <th rowspan=\"2\" valign=\"top\">2</th>\n",
       "      <th>a</th>\n",
       "      <td>1.0</td>\n",
       "      <td>1.0</td>\n",
       "    </tr>\n",
       "    <tr>\n",
       "      <th>b</th>\n",
       "      <td>1.0</td>\n",
       "      <td>1.0</td>\n",
       "    </tr>\n",
       "    <tr>\n",
       "      <th rowspan=\"2\" valign=\"top\">3</th>\n",
       "      <th>a</th>\n",
       "      <td>1.0</td>\n",
       "      <td>1.0</td>\n",
       "    </tr>\n",
       "    <tr>\n",
       "      <th>b</th>\n",
       "      <td>1.0</td>\n",
       "      <td>1.0</td>\n",
       "    </tr>\n",
       "    <tr>\n",
       "      <th rowspan=\"4\" valign=\"top\">Male</th>\n",
       "      <th rowspan=\"2\" valign=\"top\">1</th>\n",
       "      <th>a</th>\n",
       "      <td>1.0</td>\n",
       "      <td>1.0</td>\n",
       "    </tr>\n",
       "    <tr>\n",
       "      <th>b</th>\n",
       "      <td>1.0</td>\n",
       "      <td>1.0</td>\n",
       "    </tr>\n",
       "    <tr>\n",
       "      <th rowspan=\"2\" valign=\"top\">2</th>\n",
       "      <th>a</th>\n",
       "      <td>1.0</td>\n",
       "      <td>1.0</td>\n",
       "    </tr>\n",
       "    <tr>\n",
       "      <th>b</th>\n",
       "      <td>1.0</td>\n",
       "      <td>1.0</td>\n",
       "    </tr>\n",
       "  </tbody>\n",
       "</table>\n",
       "</div>"
      ],
      "text/plain": [
       "                        w    y\n",
       "                        x    z\n",
       "Gender Test_Number            \n",
       "Female 1           a  1.0  1.0\n",
       "                   b  1.0  1.0\n",
       "       2           a  1.0  1.0\n",
       "                   b  1.0  1.0\n",
       "       3           a  1.0  1.0\n",
       "                   b  1.0  1.0\n",
       "Male   1           a  1.0  1.0\n",
       "                   b  1.0  1.0\n",
       "       2           a  1.0  1.0\n",
       "                   b  1.0  1.0"
      ]
     },
     "execution_count": 16,
     "metadata": {},
     "output_type": "execute_result"
    }
   ],
   "source": [
    "gb2.apply(lambda x: temp_df).head(10)"
   ]
  },
  {
   "cell_type": "code",
   "execution_count": 17,
   "id": "98a8f7c2",
   "metadata": {},
   "outputs": [],
   "source": [
    "# Ex4-10"
   ]
  },
  {
   "cell_type": "code",
   "execution_count": 61,
   "id": "d5e52c66",
   "metadata": {},
   "outputs": [
    {
     "data": {
      "text/html": [
       "<div>\n",
       "<style scoped>\n",
       "    .dataframe tbody tr th:only-of-type {\n",
       "        vertical-align: middle;\n",
       "    }\n",
       "\n",
       "    .dataframe tbody tr th {\n",
       "        vertical-align: top;\n",
       "    }\n",
       "\n",
       "    .dataframe thead th {\n",
       "        text-align: right;\n",
       "    }\n",
       "</style>\n",
       "<table border=\"1\" class=\"dataframe\">\n",
       "  <thead>\n",
       "    <tr style=\"text-align: right;\">\n",
       "      <th></th>\n",
       "      <th></th>\n",
       "      <th>Height</th>\n",
       "      <th>Weight</th>\n",
       "    </tr>\n",
       "    <tr>\n",
       "      <th>Gender</th>\n",
       "      <th></th>\n",
       "      <th></th>\n",
       "      <th></th>\n",
       "    </tr>\n",
       "  </thead>\n",
       "  <tbody>\n",
       "    <tr>\n",
       "      <th rowspan=\"2\" valign=\"top\">Female</th>\n",
       "      <th>Height</th>\n",
       "      <td>25.542739</td>\n",
       "      <td>24.838146</td>\n",
       "    </tr>\n",
       "    <tr>\n",
       "      <th>Weight</th>\n",
       "      <td>24.838146</td>\n",
       "      <td>29.224655</td>\n",
       "    </tr>\n",
       "    <tr>\n",
       "      <th rowspan=\"2\" valign=\"top\">Male</th>\n",
       "      <th>Height</th>\n",
       "      <td>49.681137</td>\n",
       "      <td>47.803901</td>\n",
       "    </tr>\n",
       "    <tr>\n",
       "      <th>Weight</th>\n",
       "      <td>47.803901</td>\n",
       "      <td>60.412648</td>\n",
       "    </tr>\n",
       "  </tbody>\n",
       "</table>\n",
       "</div>"
      ],
      "text/plain": [
       "                  Height     Weight\n",
       "Gender                             \n",
       "Female Height  25.542739  24.838146\n",
       "       Weight  24.838146  29.224655\n",
       "Male   Height  49.681137  47.803901\n",
       "       Weight  47.803901  60.412648"
      ]
     },
     "execution_count": 61,
     "metadata": {},
     "output_type": "execute_result"
    }
   ],
   "source": [
    "gb.cov()"
   ]
  },
  {
   "cell_type": "code",
   "execution_count": 63,
   "id": "c7f6c3d3",
   "metadata": {},
   "outputs": [
    {
     "data": {
      "text/html": [
       "<div>\n",
       "<style scoped>\n",
       "    .dataframe tbody tr th:only-of-type {\n",
       "        vertical-align: middle;\n",
       "    }\n",
       "\n",
       "    .dataframe tbody tr th {\n",
       "        vertical-align: top;\n",
       "    }\n",
       "\n",
       "    .dataframe thead th {\n",
       "        text-align: right;\n",
       "    }\n",
       "</style>\n",
       "<table border=\"1\" class=\"dataframe\">\n",
       "  <thead>\n",
       "    <tr style=\"text-align: right;\">\n",
       "      <th></th>\n",
       "      <th></th>\n",
       "      <th>Height</th>\n",
       "      <th>Weight</th>\n",
       "    </tr>\n",
       "    <tr>\n",
       "      <th>Gender</th>\n",
       "      <th></th>\n",
       "      <th></th>\n",
       "      <th></th>\n",
       "    </tr>\n",
       "  </thead>\n",
       "  <tbody>\n",
       "    <tr>\n",
       "      <th rowspan=\"2\" valign=\"top\">Female</th>\n",
       "      <th>Height</th>\n",
       "      <td>26.057864</td>\n",
       "      <td>24.838146</td>\n",
       "    </tr>\n",
       "    <tr>\n",
       "      <th>Weight</th>\n",
       "      <td>24.838146</td>\n",
       "      <td>29.947937</td>\n",
       "    </tr>\n",
       "    <tr>\n",
       "      <th rowspan=\"2\" valign=\"top\">Male</th>\n",
       "      <th>Height</th>\n",
       "      <td>52.523812</td>\n",
       "      <td>47.803901</td>\n",
       "    </tr>\n",
       "    <tr>\n",
       "      <th>Weight</th>\n",
       "      <td>47.803901</td>\n",
       "      <td>55.695035</td>\n",
       "    </tr>\n",
       "  </tbody>\n",
       "</table>\n",
       "</div>"
      ],
      "text/plain": [
       "                  Height     Weight\n",
       "Gender                             \n",
       "Female Height  26.057864  24.838146\n",
       "       Weight  24.838146  29.947937\n",
       "Male   Height  52.523812  47.803901\n",
       "       Weight  47.803901  55.695035"
      ]
     },
     "execution_count": 63,
     "metadata": {},
     "output_type": "execute_result"
    }
   ],
   "source": [
    "def my_cov(x):\n",
    "    cols = x.columns\n",
    "    var0 = cols[0]\n",
    "    var1 = cols[1]\n",
    "    rowind = (~np.isnan(x[var0])) & (~np.isnan(x[var1]))\n",
    "    \n",
    "    return pd.DataFrame(np.cov(x.loc[rowind, var0], x.loc[rowind, var1]), index=x.columns, columns=x.columns)\n",
    "    \n",
    "gb.apply(lambda x: my_cov(x))"
   ]
  },
  {
   "cell_type": "code",
   "execution_count": null,
   "id": "cd56fbf3",
   "metadata": {},
   "outputs": [],
   "source": []
  }
 ],
 "metadata": {
  "kernelspec": {
   "display_name": "py310",
   "language": "python",
   "name": "py310"
  },
  "language_info": {
   "codemirror_mode": {
    "name": "ipython",
    "version": 3
   },
   "file_extension": ".py",
   "mimetype": "text/x-python",
   "name": "python",
   "nbconvert_exporter": "python",
   "pygments_lexer": "ipython3",
   "version": "3.10.13"
  }
 },
 "nbformat": 4,
 "nbformat_minor": 5
}
